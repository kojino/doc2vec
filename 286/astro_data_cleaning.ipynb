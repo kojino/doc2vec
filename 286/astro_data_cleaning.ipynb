{
 "cells": [
  {
   "cell_type": "code",
   "execution_count": 10,
   "metadata": {
    "collapsed": true
   },
   "outputs": [],
   "source": [
    "import pandas as pd\n",
    "import numpy as np\n",
    "import gensim.models as g\n",
    "import sys \n",
    "\n",
    "#parameters\n",
    "doc2vec_dir = \"../model/enwiki_dbow/doc2vec.bin\""
   ]
  },
  {
   "cell_type": "code",
   "execution_count": 2,
   "metadata": {
    "collapsed": false
   },
   "outputs": [],
   "source": [
    "df = pd.read_csv('astro_namegenderaccuracy.csv',encoding = 'latin1')"
   ]
  },
  {
   "cell_type": "code",
   "execution_count": 3,
   "metadata": {
    "collapsed": false
   },
   "outputs": [
    {
     "data": {
      "text/plain": [
       "['Unnamed: 0',\n",
       " 'abstract',\n",
       " 'aff',\n",
       " 'arxiv_class',\n",
       " 'author',\n",
       " 'bibcode',\n",
       " 'citation_count',\n",
       " 'first_author',\n",
       " 'keyword',\n",
       " 'pubdate',\n",
       " 'title',\n",
       " 'first_author_fisrt_name',\n",
       " 'first_author_gender',\n",
       " 'accuracy']"
      ]
     },
     "execution_count": 3,
     "metadata": {},
     "output_type": "execute_result"
    }
   ],
   "source": [
    "list(df)"
   ]
  },
  {
   "cell_type": "code",
   "execution_count": 7,
   "metadata": {
    "collapsed": false
   },
   "outputs": [],
   "source": [
    "df = df[(df['accuracy'] > 0.9) & (df['abstract'].notnull())]"
   ]
  },
  {
   "cell_type": "code",
   "execution_count": 11,
   "metadata": {
    "collapsed": false
   },
   "outputs": [],
   "source": [
    "pretrained_model = g.Doc2Vec.load(doc2vec_dir)"
   ]
  },
  {
   "cell_type": "code",
   "execution_count": 13,
   "metadata": {
    "collapsed": false
   },
   "outputs": [],
   "source": [
    "df['abstract_weights'] = df['abstract'].apply(pretrained_model.infer_vector)"
   ]
  },
  {
   "cell_type": "code",
   "execution_count": 14,
   "metadata": {
    "collapsed": true
   },
   "outputs": [],
   "source": [
    "cols = ['weight_'+str(i) for i in range(300)]"
   ]
  },
  {
   "cell_type": "code",
   "execution_count": 15,
   "metadata": {
    "collapsed": true
   },
   "outputs": [],
   "source": [
    "df[cols] = pd.DataFrame(df.abstract_weights.values.tolist(), index= df.index)"
   ]
  },
  {
   "cell_type": "code",
   "execution_count": 19,
   "metadata": {
    "collapsed": false
   },
   "outputs": [],
   "source": [
    "df.to_csv('astro_with_weights.csv')"
   ]
  },
  {
   "cell_type": "code",
   "execution_count": 20,
   "metadata": {
    "collapsed": false
   },
   "outputs": [
    {
     "data": {
      "text/plain": [
       "0        ['Absence of radial velocity variations in MWC...\n",
       "1        ['Detection of radio emission at mas scales fr...\n",
       "3        ['Searching for the pulsar powering the new Te...\n",
       "4        ['Swift J1753.5-0127 in the soft state: signat...\n",
       "6        ['A direct constraint on the mass of an IMBH c...\n",
       "7        ['The Orbital Structure of Triaxial Galaxies w...\n",
       "9        ['Stellar Pulsations Excited by Planetary Tide...\n",
       "10       ['The Australia telescope 20 GHz survey: hardw...\n",
       "11       ['Discovery of Very High Energy gamma-ray emis...\n",
       "12       ['Fermi LAT detection of a GeV flare from blaz...\n",
       "23       ['A hyperluminous z=2.50 quasar caught in the ...\n",
       "25                ['PTF SN discovery report, August 2012']\n",
       "39          ['CIGALE: Code Investigating GALaxy Emission']\n",
       "40       ['Anisotropic Jeans models of stellar kinemati...\n",
       "42       ['Exploring the outskirts of Abell 2029 and ot...\n",
       "43       ['Submillimeter Variability and the Gamma-ray ...\n",
       "44           ['IRTF/SpeX NIR Emission Spectra of WASP-1b']\n",
       "45                                ['Introducing ADS Labs']\n",
       "47       ['Radiative Rates for Forbidden Transitions in...\n",
       "48                ['A Multiscale Approach to Environment']\n",
       "49                ['Which M15 Source Is Now in Outburst?']\n",
       "50       ['The first low-B soft gamma repeater: testing...\n",
       "53       ['The stability of the suggested planet in the...\n",
       "54       ['Direct detection and spectral characterizati...\n",
       "55       ['Direct Detection and Spectra of Exoplanets w...\n",
       "57       ['Astrometry of AGB Variables with VERA: Annua...\n",
       "58       ['Non-Linear Thin-Shell Instability in the Typ...\n",
       "60       ['Spheroidal Post-mergers In The Local Universe']\n",
       "61       ['A Search for Intrinsic HI 21-cm Absorption T...\n",
       "62       ['The Atmosphere of WASP-14b Revealed by Three...\n",
       "                               ...                        \n",
       "11238     ['The Weak Field Limit of Fourth Order Gravity']\n",
       "11239    ['An introduction to the theory of rotating re...\n",
       "11241    ['Running boundary actions, Asymptotic Safety,...\n",
       "11243    ['CO <SUB>2</SUB> sequestration and extreme Mg...\n",
       "11244    ['Interferometer Techniques for Gravitational-...\n",
       "11245    ['DNA confinement in nanochannels: physics and...\n",
       "11246    ['The effective field theory of multifield inf...\n",
       "11249    ['Carbon dioxide in silicate melts: A molecula...\n",
       "11251    ['Time-Dependent Searches for Neutrino Point S...\n",
       "11252    ['Cosmic rays and the search for a Lorentz Inv...\n",
       "11253    ['Surface Properties of Asteroids from Mid-Inf...\n",
       "11254    ['Formation and evolution of planetary systems...\n",
       "11256    ['Geometry and field theory in multi-fractiona...\n",
       "11260    ['Cosmological limits on axions and axion-like...\n",
       "11261          ['Neutrino interactions in neutron matter']\n",
       "11264    ['Systematics of metal-silicate partitioning f...\n",
       "11265    ['Coalescence of Black Hole-Neutron Star Binar...\n",
       "11266                                 ['Analogue Gravity']\n",
       "11267    ['Particle physics models of inflation and cur...\n",
       "11268    ['The Problem of Time and Quantum Cosmology in...\n",
       "11269    ['Gravitational Waves Notes, Issue #2 : \"A pro...\n",
       "11270    ['First-Order Logic Investigation of Relativit...\n",
       "11271    ['Geometric Aspects of Gauge and Spacetime Sym...\n",
       "11272    ['Nuclear reactions in the crust of accreting ...\n",
       "11274    ['Experimental study of 3-D, impulsive reconne...\n",
       "11275    ['Propagation of Coronal Mass Ejections in the...\n",
       "11276    ['On Friedmann-LemaêÑÔÎtre-Robertson-Walker co...\n",
       "11277    ['New approaches to higher-dimensional general...\n",
       "11278            ['Hawking Radiation in Dispersive Media']\n",
       "11280    [\"G\\\\'eom\\\\'etrie quantique dans les mousses d...\n",
       "Name: title, Length: 6355, dtype: object"
      ]
     },
     "execution_count": 20,
     "metadata": {},
     "output_type": "execute_result"
    }
   ],
   "source": [
    "df['title']"
   ]
  },
  {
   "cell_type": "code",
   "execution_count": null,
   "metadata": {
    "collapsed": true
   },
   "outputs": [],
   "source": []
  }
 ],
 "metadata": {
  "kernelspec": {
   "display_name": "ml",
   "language": "python",
   "name": "ml"
  },
  "language_info": {
   "codemirror_mode": {
    "name": "ipython",
    "version": 3
   },
   "file_extension": ".py",
   "mimetype": "text/x-python",
   "name": "python",
   "nbconvert_exporter": "python",
   "pygments_lexer": "ipython3",
   "version": "3.6.2"
  }
 },
 "nbformat": 4,
 "nbformat_minor": 0
}

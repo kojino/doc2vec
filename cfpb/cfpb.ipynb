{
 "cells": [
  {
   "cell_type": "code",
   "execution_count": 1,
   "metadata": {
    "collapsed": true
   },
   "outputs": [],
   "source": [
    "# Import libraries\n",
    "import gensim.models as g\n",
    "from collections import namedtuple\n",
    "import matplotlib.pyplot as plt\n",
    "from mpl_toolkits.mplot3d import Axes3D\n",
    "import numpy as np\n",
    "import pandas as pd\n",
    "from sklearn.model_selection import train_test_split\n",
    "import sys \n",
    "from sklearn.manifold import TSNE\n",
    "from sklearn.metrics.pairwise import cosine_similarity\n",
    "\n",
    "#parameters\n",
    "doc2vec_dir=\"model/enwiki_dbow/doc2vec.bin\""
   ]
  },
  {
   "cell_type": "code",
   "execution_count": 2,
   "metadata": {
    "collapsed": false
   },
   "outputs": [
    {
     "data": {
      "text/plain": [
       "(881981, 18)"
      ]
     },
     "execution_count": 2,
     "metadata": {},
     "output_type": "execute_result"
    }
   ],
   "source": [
    "# Read in complaints\n",
    "complaints = pd.read_csv(\"Consumer_Complaints.csv\")\n",
    "complaints.shape"
   ]
  },
  {
   "cell_type": "code",
   "execution_count": 3,
   "metadata": {
    "collapsed": false
   },
   "outputs": [
    {
     "data": {
      "text/plain": [
       "(187645, 18)"
      ]
     },
     "execution_count": 3,
     "metadata": {},
     "output_type": "execute_result"
    }
   ],
   "source": [
    "# Drop null narratives\n",
    "complaints = complaints[complaints[\"Consumer complaint narrative\"].notnull()]\n",
    "complaints.shape"
   ]
  },
  {
   "cell_type": "code",
   "execution_count": 4,
   "metadata": {
    "collapsed": false
   },
   "outputs": [],
   "source": [
    "pretrained_model = g.Doc2Vec.load(doc2vec_dir)"
   ]
  },
  {
   "cell_type": "code",
   "execution_count": 5,
   "metadata": {
    "collapsed": true
   },
   "outputs": [],
   "source": [
    "narratives = complaints[\"Consumer complaint narrative\"].as_matrix()"
   ]
  },
  {
   "cell_type": "code",
   "execution_count": 7,
   "metadata": {
    "collapsed": false
   },
   "outputs": [],
   "source": [
    "weights = np.genfromtxt('cfpb_weights.csv', delimiter=',')"
   ]
  },
  {
   "cell_type": "code",
   "execution_count": null,
   "metadata": {
    "collapsed": false
   },
   "outputs": [],
   "source": [
    "similarity = cosine_similarity(weights)"
   ]
  },
  {
   "cell_type": "code",
   "execution_count": null,
   "metadata": {
    "collapsed": true
   },
   "outputs": [],
   "source": [
    "np.savetxt(\"cfpb_weights.csv\", weights, delimiter=\",\")"
   ]
  },
  {
   "cell_type": "code",
   "execution_count": 35,
   "metadata": {
    "collapsed": true
   },
   "outputs": [],
   "source": [
    "def test(docs_test,docs_original,model):\n",
    "    docvecs = []\n",
    "    for test_doc in docs_test:\n",
    "        docvec = model.infer_vector(test_doc)\n",
    "        print(type(docvec))\n",
    "        docvecs.append(docvec)\n",
    "        sims = model.docvecs.most_similar(docvec)\n",
    "        print('Test Document: «{}»\\n'.format(test_doc))\n",
    "        for label, index in [('MOST', 0), ('MEDIAN', len(sims)//2), ('LEAST', len(sims) - 1)]:\n",
    "            print(u'%s %s: «%s»\\n' % (label, sims[index], docs_original[sims[index][0]]))\n",
    "        print(\"\\n\")\n",
    "    return docvecs"
   ]
  },
  {
   "cell_type": "code",
   "execution_count": 10,
   "metadata": {
    "collapsed": true
   },
   "outputs": [],
   "source": [
    "# Transform data (you can add more data preprocessing steps) \n",
    "def transform(docs_original):\n",
    "    docs = []\n",
    "    analyzedDocument = namedtuple('AnalyzedDocument', 'words tags')\n",
    "    for i, text in enumerate(docs_original):\n",
    "        words = text.lower().replace('.','').split()\n",
    "        tags = [i]\n",
    "        docs.append(analyzedDocument(words, tags))\n",
    "    return docs"
   ]
  },
  {
   "cell_type": "code",
   "execution_count": null,
   "metadata": {
    "collapsed": true
   },
   "outputs": [],
   "source": [
    "# Split to train and test\n",
    "# train_complaints, test_complaints = train_test_split(\n",
    "#    complaints, test_size=0.1, random_state=42)\n",
    "\n",
    "# Doc2Vec hyper parameters\n",
    "\n",
    "# size = 10 # dimension of the hidden layer (default: 100)\n",
    "# window = 5 # max distance between the predicted word and context words (default: 5)\n",
    "# min_count = 5 # ignore all words with total frequency lower than this (default: 5)\n",
    "\n",
    "\n",
    "# The ideal parameters\n",
    "\n",
    "# vector_size = 300\n",
    "# window_size = 15\n",
    "# min_count = 1\n",
    "# sampling_threshold = 1e-5\n",
    "# negative_size = 5\n",
    "# train_epoch = 100\n",
    "# dm = 0 #0 = dbow; 1 = dmpv\n",
    "# worker_count = 1 #number of parallel processes\n",
    "\n",
    "# Transform narratives as input\n",
    "# train_narratives = transform(train_complaints[\"Consumer complaint narrative\"])\n",
    "\n",
    "# Train model \n",
    "# model = g.doc2vec.Doc2Vec(train_narratives, size = size, window = window, min_count = min_count)\n",
    "\n",
    "# Train ideal model \n",
    "# model = g.doc2vec.Doc2Vec(train_narratives, \n",
    "#                         size=vector_size, \n",
    "#                         window=window_size, \n",
    "#                         min_count=min_count, \n",
    "#                         sample=sampling_threshold, \n",
    "#                         workers=worker_count, \n",
    "#                         hs=0, \n",
    "#                         dm=dm, \n",
    "#                         negative=negative_size, \n",
    "#                         dbow_words=1,\n",
    "#                         dm_concat=1, \n",
    "#                         iter=train_epoch)\n",
    "\n",
    "# train_docs = np.array(list(train_complaints[\"Consumer complaint narrative\"]))\n",
    "# test_docs = np.array(list(test_complaints[\"Consumer complaint narrative\"]))"
   ]
  }
 ],
 "metadata": {
  "kernelspec": {
   "display_name": "ml",
   "language": "python",
   "name": "ml"
  },
  "language_info": {
   "codemirror_mode": {
    "name": "ipython",
    "version": 3
   },
   "file_extension": ".py",
   "mimetype": "text/x-python",
   "name": "python",
   "nbconvert_exporter": "python",
   "pygments_lexer": "ipython3",
   "version": "3.6.2"
  }
 },
 "nbformat": 4,
 "nbformat_minor": 0
}

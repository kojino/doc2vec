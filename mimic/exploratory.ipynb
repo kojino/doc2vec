{
 "cells": [
  {
   "cell_type": "code",
   "execution_count": 2,
   "metadata": {},
   "outputs": [],
   "source": [
    "import pandas as pd\n",
    "import numpy as np"
   ]
  },
  {
   "cell_type": "code",
   "execution_count": 3,
   "metadata": {},
   "outputs": [],
   "source": [
    "df = pd.read_csv('echo_ps_matches_all_notes07Feb18.csv')\n",
    "texts = df.groupby('ICUSTAY_ID')['TEXT'].apply(lambda x: x.sum()).to_frame()"
   ]
  },
  {
   "cell_type": "code",
   "execution_count": 8,
   "metadata": {},
   "outputs": [],
   "source": [
    "# df_match = pd.read_csv('PSMatchDetails.csv')\n",
    "# len(set(df_match['icustay_id']))"
   ]
  },
  {
   "cell_type": "code",
   "execution_count": 9,
   "metadata": {},
   "outputs": [],
   "source": [
    "from sklearn.feature_extraction.text import CountVectorizer\n",
    "\n",
    "cv = CountVectorizer(analyzer='char_wb', ngram_range=(2,2), min_df = 0)\n",
    "# cv = CountVectorizer(analyzer='char_wb', ngram_range=(3,3), min_df = 0)"
   ]
  },
  {
   "cell_type": "code",
   "execution_count": 11,
   "metadata": {},
   "outputs": [],
   "source": [
    "bigrams = cv.fit_transform(texts['TEXT'])"
   ]
  },
  {
   "cell_type": "code",
   "execution_count": 13,
   "metadata": {},
   "outputs": [],
   "source": [
    "import numpy as np\n",
    "np.savetxt('bigrams.csv',bigrams.toarray(),delimiter=',')\n",
    "# np.savetxt('trigrams.csv',trigrams.toarray(),delimiter=',')"
   ]
  },
  {
   "cell_type": "code",
   "execution_count": 34,
   "metadata": {},
   "outputs": [],
   "source": [
    "df_sub = df.loc[:,['ICUSTAY_ID','PROPENSITY.SCORE','ECHO']].groupby('ICUSTAY_ID').mean()"
   ]
  },
  {
   "cell_type": "code",
   "execution_count": 43,
   "metadata": {},
   "outputs": [],
   "source": [
    "bigram_df = pd.DataFrame(data=bigrams.toarray())"
   ]
  },
  {
   "cell_type": "code",
   "execution_count": 46,
   "metadata": {},
   "outputs": [],
   "source": [
    "df_sub.reset_index(drop=True, inplace=True)\n",
    "texts.reset_index(drop=True, inplace=True)\n",
    "bigram_df.reset_index(drop=True, inplace=True)\n",
    "out = pd.concat([df_sub,texts,bigram_df],axis=1)"
   ]
  },
  {
   "cell_type": "code",
   "execution_count": 48,
   "metadata": {},
   "outputs": [],
   "source": [
    "# out.to_csv('master_bigram.csv')"
   ]
  },
  {
   "cell_type": "code",
   "execution_count": 49,
   "metadata": {},
   "outputs": [],
   "source": [
    "from sklearn.linear_model import LogisticRegression\n",
    "LR = LogisticRegression()"
   ]
  },
  {
   "cell_type": "code",
   "execution_count": 62,
   "metadata": {},
   "outputs": [
    {
     "data": {
      "text/plain": [
       "LogisticRegression(C=1.0, class_weight=None, dual=False, fit_intercept=True,\n",
       "          intercept_scaling=1, max_iter=100, multi_class='ovr', n_jobs=1,\n",
       "          penalty='l2', random_state=None, solver='liblinear', tol=0.0001,\n",
       "          verbose=0, warm_start=False)"
      ]
     },
     "execution_count": 62,
     "metadata": {},
     "output_type": "execute_result"
    }
   ],
   "source": [
    "LR.fit(out.loc[:,[i for i in range(bigrams.shape[1])]], out['ECHO'])"
   ]
  },
  {
   "cell_type": "code",
   "execution_count": 68,
   "metadata": {},
   "outputs": [],
   "source": [
    "out['TEXT.PROPENSITY.SCORE'] = LR.predict_proba(out.loc[:,[i for i in range(bigrams.shape[1])]])[:,1]"
   ]
  },
  {
   "cell_type": "code",
   "execution_count": 70,
   "metadata": {},
   "outputs": [
    {
     "data": {
      "text/html": [
       "<div>\n",
       "<style scoped>\n",
       "    .dataframe tbody tr th:only-of-type {\n",
       "        vertical-align: middle;\n",
       "    }\n",
       "\n",
       "    .dataframe tbody tr th {\n",
       "        vertical-align: top;\n",
       "    }\n",
       "\n",
       "    .dataframe thead th {\n",
       "        text-align: right;\n",
       "    }\n",
       "</style>\n",
       "<table border=\"1\" class=\"dataframe\">\n",
       "  <thead>\n",
       "    <tr style=\"text-align: right;\">\n",
       "      <th></th>\n",
       "      <th>ECHO</th>\n",
       "      <th>PROPENSITY.SCORE</th>\n",
       "      <th>TEXT.PROPENSITY.SCORE</th>\n",
       "    </tr>\n",
       "  </thead>\n",
       "  <tbody>\n",
       "    <tr>\n",
       "      <th>0</th>\n",
       "      <td>1</td>\n",
       "      <td>0.512780</td>\n",
       "      <td>0.425413</td>\n",
       "    </tr>\n",
       "    <tr>\n",
       "      <th>1</th>\n",
       "      <td>1</td>\n",
       "      <td>0.768120</td>\n",
       "      <td>0.414199</td>\n",
       "    </tr>\n",
       "    <tr>\n",
       "      <th>2</th>\n",
       "      <td>1</td>\n",
       "      <td>0.483118</td>\n",
       "      <td>0.658376</td>\n",
       "    </tr>\n",
       "    <tr>\n",
       "      <th>3</th>\n",
       "      <td>0</td>\n",
       "      <td>0.596660</td>\n",
       "      <td>0.440875</td>\n",
       "    </tr>\n",
       "    <tr>\n",
       "      <th>4</th>\n",
       "      <td>1</td>\n",
       "      <td>0.666952</td>\n",
       "      <td>0.831680</td>\n",
       "    </tr>\n",
       "    <tr>\n",
       "      <th>5</th>\n",
       "      <td>0</td>\n",
       "      <td>0.515942</td>\n",
       "      <td>0.006778</td>\n",
       "    </tr>\n",
       "    <tr>\n",
       "      <th>6</th>\n",
       "      <td>1</td>\n",
       "      <td>0.773341</td>\n",
       "      <td>0.713861</td>\n",
       "    </tr>\n",
       "    <tr>\n",
       "      <th>7</th>\n",
       "      <td>0</td>\n",
       "      <td>0.437484</td>\n",
       "      <td>0.167780</td>\n",
       "    </tr>\n",
       "    <tr>\n",
       "      <th>8</th>\n",
       "      <td>0</td>\n",
       "      <td>0.604153</td>\n",
       "      <td>0.507339</td>\n",
       "    </tr>\n",
       "    <tr>\n",
       "      <th>9</th>\n",
       "      <td>1</td>\n",
       "      <td>0.268699</td>\n",
       "      <td>0.917705</td>\n",
       "    </tr>\n",
       "    <tr>\n",
       "      <th>10</th>\n",
       "      <td>0</td>\n",
       "      <td>0.522881</td>\n",
       "      <td>0.453967</td>\n",
       "    </tr>\n",
       "    <tr>\n",
       "      <th>11</th>\n",
       "      <td>0</td>\n",
       "      <td>0.212901</td>\n",
       "      <td>0.389378</td>\n",
       "    </tr>\n",
       "    <tr>\n",
       "      <th>12</th>\n",
       "      <td>0</td>\n",
       "      <td>0.362990</td>\n",
       "      <td>0.056271</td>\n",
       "    </tr>\n",
       "    <tr>\n",
       "      <th>13</th>\n",
       "      <td>1</td>\n",
       "      <td>0.749465</td>\n",
       "      <td>0.475456</td>\n",
       "    </tr>\n",
       "    <tr>\n",
       "      <th>14</th>\n",
       "      <td>0</td>\n",
       "      <td>0.342691</td>\n",
       "      <td>0.529337</td>\n",
       "    </tr>\n",
       "    <tr>\n",
       "      <th>15</th>\n",
       "      <td>0</td>\n",
       "      <td>0.178467</td>\n",
       "      <td>0.502970</td>\n",
       "    </tr>\n",
       "    <tr>\n",
       "      <th>16</th>\n",
       "      <td>1</td>\n",
       "      <td>0.271641</td>\n",
       "      <td>0.449372</td>\n",
       "    </tr>\n",
       "    <tr>\n",
       "      <th>17</th>\n",
       "      <td>1</td>\n",
       "      <td>0.800667</td>\n",
       "      <td>0.505747</td>\n",
       "    </tr>\n",
       "    <tr>\n",
       "      <th>18</th>\n",
       "      <td>0</td>\n",
       "      <td>0.154652</td>\n",
       "      <td>0.165270</td>\n",
       "    </tr>\n",
       "    <tr>\n",
       "      <th>19</th>\n",
       "      <td>1</td>\n",
       "      <td>0.704442</td>\n",
       "      <td>0.592118</td>\n",
       "    </tr>\n",
       "    <tr>\n",
       "      <th>20</th>\n",
       "      <td>0</td>\n",
       "      <td>0.147645</td>\n",
       "      <td>0.316983</td>\n",
       "    </tr>\n",
       "    <tr>\n",
       "      <th>21</th>\n",
       "      <td>1</td>\n",
       "      <td>0.745762</td>\n",
       "      <td>0.744182</td>\n",
       "    </tr>\n",
       "    <tr>\n",
       "      <th>22</th>\n",
       "      <td>0</td>\n",
       "      <td>0.416116</td>\n",
       "      <td>0.309126</td>\n",
       "    </tr>\n",
       "    <tr>\n",
       "      <th>23</th>\n",
       "      <td>0</td>\n",
       "      <td>0.289942</td>\n",
       "      <td>0.429860</td>\n",
       "    </tr>\n",
       "    <tr>\n",
       "      <th>24</th>\n",
       "      <td>1</td>\n",
       "      <td>0.528890</td>\n",
       "      <td>0.394796</td>\n",
       "    </tr>\n",
       "    <tr>\n",
       "      <th>25</th>\n",
       "      <td>0</td>\n",
       "      <td>0.141660</td>\n",
       "      <td>0.464205</td>\n",
       "    </tr>\n",
       "    <tr>\n",
       "      <th>26</th>\n",
       "      <td>0</td>\n",
       "      <td>0.720051</td>\n",
       "      <td>0.068307</td>\n",
       "    </tr>\n",
       "    <tr>\n",
       "      <th>27</th>\n",
       "      <td>0</td>\n",
       "      <td>0.220788</td>\n",
       "      <td>0.090294</td>\n",
       "    </tr>\n",
       "    <tr>\n",
       "      <th>28</th>\n",
       "      <td>1</td>\n",
       "      <td>0.680367</td>\n",
       "      <td>0.662939</td>\n",
       "    </tr>\n",
       "    <tr>\n",
       "      <th>29</th>\n",
       "      <td>0</td>\n",
       "      <td>0.426575</td>\n",
       "      <td>0.524262</td>\n",
       "    </tr>\n",
       "    <tr>\n",
       "      <th>...</th>\n",
       "      <td>...</td>\n",
       "      <td>...</td>\n",
       "      <td>...</td>\n",
       "    </tr>\n",
       "    <tr>\n",
       "      <th>4333</th>\n",
       "      <td>1</td>\n",
       "      <td>0.586101</td>\n",
       "      <td>0.660562</td>\n",
       "    </tr>\n",
       "    <tr>\n",
       "      <th>4334</th>\n",
       "      <td>1</td>\n",
       "      <td>0.630348</td>\n",
       "      <td>0.364356</td>\n",
       "    </tr>\n",
       "    <tr>\n",
       "      <th>4335</th>\n",
       "      <td>1</td>\n",
       "      <td>0.865091</td>\n",
       "      <td>0.999858</td>\n",
       "    </tr>\n",
       "    <tr>\n",
       "      <th>4336</th>\n",
       "      <td>1</td>\n",
       "      <td>0.790189</td>\n",
       "      <td>0.873470</td>\n",
       "    </tr>\n",
       "    <tr>\n",
       "      <th>4337</th>\n",
       "      <td>0</td>\n",
       "      <td>0.671180</td>\n",
       "      <td>0.540944</td>\n",
       "    </tr>\n",
       "    <tr>\n",
       "      <th>4338</th>\n",
       "      <td>0</td>\n",
       "      <td>0.600527</td>\n",
       "      <td>0.499117</td>\n",
       "    </tr>\n",
       "    <tr>\n",
       "      <th>4339</th>\n",
       "      <td>0</td>\n",
       "      <td>0.530037</td>\n",
       "      <td>0.156356</td>\n",
       "    </tr>\n",
       "    <tr>\n",
       "      <th>4340</th>\n",
       "      <td>1</td>\n",
       "      <td>0.647778</td>\n",
       "      <td>0.595597</td>\n",
       "    </tr>\n",
       "    <tr>\n",
       "      <th>4341</th>\n",
       "      <td>1</td>\n",
       "      <td>0.597818</td>\n",
       "      <td>0.659777</td>\n",
       "    </tr>\n",
       "    <tr>\n",
       "      <th>4342</th>\n",
       "      <td>0</td>\n",
       "      <td>0.569100</td>\n",
       "      <td>0.678050</td>\n",
       "    </tr>\n",
       "    <tr>\n",
       "      <th>4343</th>\n",
       "      <td>1</td>\n",
       "      <td>0.592286</td>\n",
       "      <td>0.999518</td>\n",
       "    </tr>\n",
       "    <tr>\n",
       "      <th>4344</th>\n",
       "      <td>0</td>\n",
       "      <td>0.714313</td>\n",
       "      <td>0.604649</td>\n",
       "    </tr>\n",
       "    <tr>\n",
       "      <th>4345</th>\n",
       "      <td>1</td>\n",
       "      <td>0.551052</td>\n",
       "      <td>0.666713</td>\n",
       "    </tr>\n",
       "    <tr>\n",
       "      <th>4346</th>\n",
       "      <td>1</td>\n",
       "      <td>0.633653</td>\n",
       "      <td>0.609967</td>\n",
       "    </tr>\n",
       "    <tr>\n",
       "      <th>4347</th>\n",
       "      <td>1</td>\n",
       "      <td>0.782294</td>\n",
       "      <td>0.655327</td>\n",
       "    </tr>\n",
       "    <tr>\n",
       "      <th>4348</th>\n",
       "      <td>0</td>\n",
       "      <td>0.460295</td>\n",
       "      <td>0.333619</td>\n",
       "    </tr>\n",
       "    <tr>\n",
       "      <th>4349</th>\n",
       "      <td>1</td>\n",
       "      <td>0.726695</td>\n",
       "      <td>0.847730</td>\n",
       "    </tr>\n",
       "    <tr>\n",
       "      <th>4350</th>\n",
       "      <td>1</td>\n",
       "      <td>0.720422</td>\n",
       "      <td>0.800071</td>\n",
       "    </tr>\n",
       "    <tr>\n",
       "      <th>4351</th>\n",
       "      <td>1</td>\n",
       "      <td>0.423535</td>\n",
       "      <td>0.443854</td>\n",
       "    </tr>\n",
       "    <tr>\n",
       "      <th>4352</th>\n",
       "      <td>1</td>\n",
       "      <td>0.638160</td>\n",
       "      <td>0.596863</td>\n",
       "    </tr>\n",
       "    <tr>\n",
       "      <th>4353</th>\n",
       "      <td>1</td>\n",
       "      <td>0.651923</td>\n",
       "      <td>0.531750</td>\n",
       "    </tr>\n",
       "    <tr>\n",
       "      <th>4354</th>\n",
       "      <td>1</td>\n",
       "      <td>0.890014</td>\n",
       "      <td>0.866247</td>\n",
       "    </tr>\n",
       "    <tr>\n",
       "      <th>4355</th>\n",
       "      <td>1</td>\n",
       "      <td>0.703256</td>\n",
       "      <td>0.813988</td>\n",
       "    </tr>\n",
       "    <tr>\n",
       "      <th>4356</th>\n",
       "      <td>0</td>\n",
       "      <td>0.490446</td>\n",
       "      <td>0.460967</td>\n",
       "    </tr>\n",
       "    <tr>\n",
       "      <th>4357</th>\n",
       "      <td>1</td>\n",
       "      <td>0.302588</td>\n",
       "      <td>0.559321</td>\n",
       "    </tr>\n",
       "    <tr>\n",
       "      <th>4358</th>\n",
       "      <td>0</td>\n",
       "      <td>0.141757</td>\n",
       "      <td>0.426366</td>\n",
       "    </tr>\n",
       "    <tr>\n",
       "      <th>4359</th>\n",
       "      <td>1</td>\n",
       "      <td>0.730869</td>\n",
       "      <td>0.974032</td>\n",
       "    </tr>\n",
       "    <tr>\n",
       "      <th>4360</th>\n",
       "      <td>0</td>\n",
       "      <td>0.177696</td>\n",
       "      <td>0.015050</td>\n",
       "    </tr>\n",
       "    <tr>\n",
       "      <th>4361</th>\n",
       "      <td>0</td>\n",
       "      <td>0.376546</td>\n",
       "      <td>0.778736</td>\n",
       "    </tr>\n",
       "    <tr>\n",
       "      <th>4362</th>\n",
       "      <td>1</td>\n",
       "      <td>0.748796</td>\n",
       "      <td>0.700066</td>\n",
       "    </tr>\n",
       "  </tbody>\n",
       "</table>\n",
       "<p>4363 rows × 3 columns</p>\n",
       "</div>"
      ],
      "text/plain": [
       "      ECHO  PROPENSITY.SCORE  TEXT.PROPENSITY.SCORE\n",
       "0        1          0.512780               0.425413\n",
       "1        1          0.768120               0.414199\n",
       "2        1          0.483118               0.658376\n",
       "3        0          0.596660               0.440875\n",
       "4        1          0.666952               0.831680\n",
       "5        0          0.515942               0.006778\n",
       "6        1          0.773341               0.713861\n",
       "7        0          0.437484               0.167780\n",
       "8        0          0.604153               0.507339\n",
       "9        1          0.268699               0.917705\n",
       "10       0          0.522881               0.453967\n",
       "11       0          0.212901               0.389378\n",
       "12       0          0.362990               0.056271\n",
       "13       1          0.749465               0.475456\n",
       "14       0          0.342691               0.529337\n",
       "15       0          0.178467               0.502970\n",
       "16       1          0.271641               0.449372\n",
       "17       1          0.800667               0.505747\n",
       "18       0          0.154652               0.165270\n",
       "19       1          0.704442               0.592118\n",
       "20       0          0.147645               0.316983\n",
       "21       1          0.745762               0.744182\n",
       "22       0          0.416116               0.309126\n",
       "23       0          0.289942               0.429860\n",
       "24       1          0.528890               0.394796\n",
       "25       0          0.141660               0.464205\n",
       "26       0          0.720051               0.068307\n",
       "27       0          0.220788               0.090294\n",
       "28       1          0.680367               0.662939\n",
       "29       0          0.426575               0.524262\n",
       "...    ...               ...                    ...\n",
       "4333     1          0.586101               0.660562\n",
       "4334     1          0.630348               0.364356\n",
       "4335     1          0.865091               0.999858\n",
       "4336     1          0.790189               0.873470\n",
       "4337     0          0.671180               0.540944\n",
       "4338     0          0.600527               0.499117\n",
       "4339     0          0.530037               0.156356\n",
       "4340     1          0.647778               0.595597\n",
       "4341     1          0.597818               0.659777\n",
       "4342     0          0.569100               0.678050\n",
       "4343     1          0.592286               0.999518\n",
       "4344     0          0.714313               0.604649\n",
       "4345     1          0.551052               0.666713\n",
       "4346     1          0.633653               0.609967\n",
       "4347     1          0.782294               0.655327\n",
       "4348     0          0.460295               0.333619\n",
       "4349     1          0.726695               0.847730\n",
       "4350     1          0.720422               0.800071\n",
       "4351     1          0.423535               0.443854\n",
       "4352     1          0.638160               0.596863\n",
       "4353     1          0.651923               0.531750\n",
       "4354     1          0.890014               0.866247\n",
       "4355     1          0.703256               0.813988\n",
       "4356     0          0.490446               0.460967\n",
       "4357     1          0.302588               0.559321\n",
       "4358     0          0.141757               0.426366\n",
       "4359     1          0.730869               0.974032\n",
       "4360     0          0.177696               0.015050\n",
       "4361     0          0.376546               0.778736\n",
       "4362     1          0.748796               0.700066\n",
       "\n",
       "[4363 rows x 3 columns]"
      ]
     },
     "execution_count": 70,
     "metadata": {},
     "output_type": "execute_result"
    }
   ],
   "source": [
    "out.loc[:,['ECHO','PROPENSITY.SCORE','TEXT.PROPENSITY.SCORE']]"
   ]
  },
  {
   "cell_type": "code",
   "execution_count": 80,
   "metadata": {},
   "outputs": [
    {
     "data": {
      "image/png": "[encoded data removed]",
      "text/plain": [
       "<matplotlib.figure.Figure at 0x12d1c5550>"
      ]
     },
     "metadata": {},
     "output_type": "display_data"
    }
   ],
   "source": [
    "diff = out['PROPENSITY.SCORE']-out['TEXT.PROPENSITY.SCORE']\n",
    "import matplotlib.pyplot as plt\n",
    "plt.hist(diff)\n",
    "plt.show()\n"
   ]
  },
  {
   "cell_type": "code",
   "execution_count": 82,
   "metadata": {},
   "outputs": [
    {
     "data": {
      "text/plain": [
       "1.0"
      ]
     },
     "execution_count": 82,
     "metadata": {},
     "output_type": "execute_result"
    }
   ],
   "source": [
    "np.max(out['TEXT.PROPENSITY.SCORE'])"
   ]
  },
  {
   "cell_type": "markdown",
   "metadata": {},
   "source": [
    "# Ranking"
   ]
  },
  {
   "cell_type": "code",
   "execution_count": 4,
   "metadata": {},
   "outputs": [],
   "source": [
    "# load bigrams\n",
    "bigrams=np.loadtxt('bigrams.csv',delimiter=',')"
   ]
  },
  {
   "cell_type": "code",
   "execution_count": 5,
   "metadata": {},
   "outputs": [],
   "source": [
    "# group by ICUSTAY_ID\n",
    "df_sub = df.loc[:,['ICUSTAY_ID','MATCH.ID','ECHO']].groupby('ICUSTAY_ID').mean()"
   ]
  },
  {
   "cell_type": "code",
   "execution_count": 6,
   "metadata": {},
   "outputs": [],
   "source": [
    "# get row nums for treatment and control\n",
    "treat_ids = np.where(df_sub['ECHO']==1)[0]\n",
    "control_ids = np.where(df_sub['ECHO']==0)[0]\n",
    "\n",
    "# get the actual IDs for treatment and control\n",
    "treat_ids_org = np.array(df_sub.index[df_sub['ECHO']==1].tolist())\n",
    "control_ids_org = np.array(df_sub.index[df_sub['ECHO']==0].tolist())"
   ]
  },
  {
   "cell_type": "code",
   "execution_count": 7,
   "metadata": {},
   "outputs": [],
   "source": [
    "# calc pairwise cos similarity between treat and control\n",
    "from sklearn.metrics.pairwise import cosine_similarity\n",
    "cosines = cosine_similarity(bigrams[treat_ids],bigrams[control_ids])"
   ]
  },
  {
   "cell_type": "code",
   "execution_count": 10,
   "metadata": {},
   "outputs": [],
   "source": [
    "# convert matched IDs to row ID's\n",
    "def find_el(el):\n",
    "    res = np.where(df_sub.index.values==el)\n",
    "    if len(res[0]) == 0:\n",
    "        return None\n",
    "    return res[0][0]\n",
    "f = np.vectorize(find_el)\n",
    "matched_ids=f(df_sub['MATCH.ID'])"
   ]
  },
  {
   "cell_type": "code",
   "execution_count": 11,
   "metadata": {},
   "outputs": [],
   "source": [
    "# get matched ID for each treatment\n",
    "treat_matches = df_sub.iloc[treat_ids]['MATCH.ID']\n",
    "treat_pairs = np.vstack([treat_matches.index.values,np.array(treat_matches.tolist())]).T"
   ]
  },
  {
   "cell_type": "code",
   "execution_count": 24,
   "metadata": {},
   "outputs": [],
   "source": [
    "# only select treatments that were matched\n",
    "non_na_treat_pairs = treat_pairs[~np.isnan(treat_pairs).any(axis=1)].astype(int)"
   ]
  },
  {
   "cell_type": "code",
   "execution_count": 29,
   "metadata": {},
   "outputs": [],
   "source": [
    "# convert each pair to row IDs\n",
    "res = []\n",
    "def find_rowID(row):\n",
    "    where_treat = np.where(row[0]==treat_ids_org)\n",
    "    where_control = np.where(row[1]==control_ids_org)\n",
    "    if len(where_treat[0]) and len(where_control[0]):\n",
    "        res.append([where_treat[0][0],where_control[0][0]])\n",
    "np.apply_along_axis(find_rowID, 1, non_na_treat_pairs)\n",
    "res = np.array(res)"
   ]
  },
  {
   "cell_type": "code",
   "execution_count": 31,
   "metadata": {},
   "outputs": [],
   "source": [
    "# get all cosine similarities for each treatment\n",
    "all_treat_cosines = cosines[res[:,0]]\n",
    "all_treat_cosines = np.sort(all_treat_cosines.flatten())\n",
    "# get matched cosines\n",
    "matched_treat_cosines = cosines[res[:,0],res[:,1]]"
   ]
  },
  {
   "cell_type": "code",
   "execution_count": 40,
   "metadata": {},
   "outputs": [],
   "source": [
    "rows_list = []\n",
    "for row_ID, row in zip(res[:,0],all_treat_cosines):\n",
    "    for col_ID, cosine in enumerate(row):\n",
    "        rows_list.append([row_ID,col_ID,cosine])\n"
   ]
  },
  {
   "cell_type": "code",
   "execution_count": 42,
   "metadata": {},
   "outputs": [],
   "source": [
    "cos_df = pd.DataFrame(rows_list)\n",
    "cos_df.columns = columns=['row_ID','col_ID','cosine']"
   ]
  },
  {
   "cell_type": "code",
   "execution_count": 50,
   "metadata": {},
   "outputs": [],
   "source": [
    "cos_df = cos_df.sort_values('cosine',ascending=0).reset_index()"
   ]
  },
  {
   "cell_type": "code",
   "execution_count": 69,
   "metadata": {},
   "outputs": [
    {
     "data": {
      "text/plain": [
       "array([   5, 1387])"
      ]
     },
     "execution_count": 69,
     "metadata": {},
     "output_type": "execute_result"
    }
   ],
   "source": [
    "res[0]"
   ]
  },
  {
   "cell_type": "code",
   "execution_count": 72,
   "metadata": {},
   "outputs": [
    {
     "data": {
      "text/plain": [
       "[40263]"
      ]
     },
     "execution_count": 72,
     "metadata": {},
     "output_type": "execute_result"
    }
   ],
   "source": [
    "cos_df.index[(cos_df['row_ID'] == 5) & (cos_df['col_ID'] == 1387)].tolist()"
   ]
  },
  {
   "cell_type": "code",
   "execution_count": 178,
   "metadata": {},
   "outputs": [
    {
     "name": "stdout",
     "output_type": "stream",
     "text": [
      "40263\n",
      "940300\n",
      "276518\n",
      "1588248\n",
      "895252\n",
      "929479\n",
      "835291\n",
      "1491993\n",
      "119959\n",
      "706888\n",
      "992816\n",
      "1072183\n",
      "351535\n",
      "1031966\n",
      "1170433\n",
      "915098\n",
      "174297\n",
      "1305974\n",
      "1073043\n",
      "999450\n",
      "48453\n",
      "1465008\n",
      "1380692\n",
      "956634\n",
      "1010095\n",
      "962137\n",
      "107887\n",
      "358429\n",
      "561678\n",
      "1254993\n",
      "1191043\n",
      "1309090\n",
      "854985\n",
      "168733\n",
      "179074\n",
      "304663\n",
      "131296\n",
      "1413861\n",
      "204627\n",
      "1377446\n",
      "478593\n",
      "620221\n",
      "934804\n",
      "382719\n",
      "278729\n",
      "1219334\n",
      "276638\n",
      "1363698\n",
      "147205\n",
      "1069574\n",
      "820942\n",
      "1387604\n",
      "1048917\n",
      "131991\n",
      "553369\n",
      "1063852\n",
      "1490751\n",
      "582313\n",
      "1026944\n",
      "1653791\n"
     ]
    },
    {
     "ename": "AttributeError",
     "evalue": "'numpy.ndarray' object has no attribute 'append'",
     "output_type": "error",
     "traceback": [
      "\u001b[0;31m-------------------------------------------------------------------\u001b[0m",
      "\u001b[0;31mAttributeError\u001b[0m                    Traceback (most recent call last)",
      "\u001b[0;32m<ipython-input-178-238379a4d0f8>\u001b[0m in \u001b[0;36m<module>\u001b[0;34m()\u001b[0m\n\u001b[1;32m     11\u001b[0m     \u001b[0;32mif\u001b[0m \u001b[0mrank\u001b[0m \u001b[0;34m>\u001b[0m \u001b[0mcos_df\u001b[0m\u001b[0;34m.\u001b[0m\u001b[0mshape\u001b[0m\u001b[0;34m[\u001b[0m\u001b[0;36m0\u001b[0m\u001b[0;34m]\u001b[0m \u001b[0;34m-\u001b[0m \u001b[0;36m50000\u001b[0m\u001b[0;34m:\u001b[0m\u001b[0;34m\u001b[0m\u001b[0m\n\u001b[1;32m     12\u001b[0m         \u001b[0mtop_text_bottom_org\u001b[0m\u001b[0;34m.\u001b[0m\u001b[0mappend\u001b[0m\u001b[0;34m(\u001b[0m\u001b[0;34m[\u001b[0m\u001b[0mrow\u001b[0m\u001b[0;34m,\u001b[0m\u001b[0mcol\u001b[0m\u001b[0;34m]\u001b[0m\u001b[0;34m)\u001b[0m\u001b[0;34m\u001b[0m\u001b[0m\n\u001b[0;32m---> 13\u001b[0;31m \u001b[0mnp\u001b[0m\u001b[0;34m.\u001b[0m\u001b[0mapply_along_axis\u001b[0m\u001b[0;34m(\u001b[0m\u001b[0mget_rank\u001b[0m\u001b[0;34m,\u001b[0m \u001b[0;36m1\u001b[0m\u001b[0;34m,\u001b[0m \u001b[0mres\u001b[0m\u001b[0;34m)\u001b[0m\u001b[0;34m\u001b[0m\u001b[0m\n\u001b[0m\u001b[1;32m     14\u001b[0m \u001b[0;34m\u001b[0m\u001b[0m\n\u001b[1;32m     15\u001b[0m \u001b[0mtop_text_top_org\u001b[0m \u001b[0;34m=\u001b[0m \u001b[0mnp\u001b[0m\u001b[0;34m.\u001b[0m\u001b[0marray\u001b[0m\u001b[0;34m(\u001b[0m\u001b[0mtop_text_top_org\u001b[0m\u001b[0;34m)\u001b[0m\u001b[0;34m\u001b[0m\u001b[0m\n",
      "\u001b[0;32m~/anaconda/envs/ml/lib/python3.6/site-packages/numpy/lib/shape_base.py\u001b[0m in \u001b[0;36mapply_along_axis\u001b[0;34m(func1d, axis, arr, *args, **kwargs)\u001b[0m\n\u001b[1;32m    153\u001b[0m     \u001b[0mbuff\u001b[0m\u001b[0;34m[\u001b[0m\u001b[0mind0\u001b[0m\u001b[0;34m]\u001b[0m \u001b[0;34m=\u001b[0m \u001b[0mres\u001b[0m\u001b[0;34m\u001b[0m\u001b[0m\n\u001b[1;32m    154\u001b[0m     \u001b[0;32mfor\u001b[0m \u001b[0mind\u001b[0m \u001b[0;32min\u001b[0m \u001b[0minds\u001b[0m\u001b[0;34m:\u001b[0m\u001b[0;34m\u001b[0m\u001b[0m\n\u001b[0;32m--> 155\u001b[0;31m         \u001b[0mbuff\u001b[0m\u001b[0;34m[\u001b[0m\u001b[0mind\u001b[0m\u001b[0;34m]\u001b[0m \u001b[0;34m=\u001b[0m \u001b[0masanyarray\u001b[0m\u001b[0;34m(\u001b[0m\u001b[0mfunc1d\u001b[0m\u001b[0;34m(\u001b[0m\u001b[0minarr_view\u001b[0m\u001b[0;34m[\u001b[0m\u001b[0mind\u001b[0m\u001b[0;34m]\u001b[0m\u001b[0;34m,\u001b[0m \u001b[0;34m*\u001b[0m\u001b[0margs\u001b[0m\u001b[0;34m,\u001b[0m \u001b[0;34m**\u001b[0m\u001b[0mkwargs\u001b[0m\u001b[0;34m)\u001b[0m\u001b[0;34m)\u001b[0m\u001b[0;34m\u001b[0m\u001b[0m\n\u001b[0m\u001b[1;32m    156\u001b[0m \u001b[0;34m\u001b[0m\u001b[0m\n\u001b[1;32m    157\u001b[0m     \u001b[0;32mif\u001b[0m \u001b[0;32mnot\u001b[0m \u001b[0misinstance\u001b[0m\u001b[0;34m(\u001b[0m\u001b[0mres\u001b[0m\u001b[0;34m,\u001b[0m \u001b[0mmatrix\u001b[0m\u001b[0;34m)\u001b[0m\u001b[0;34m:\u001b[0m\u001b[0;34m\u001b[0m\u001b[0m\n",
      "\u001b[0;32m<ipython-input-178-238379a4d0f8>\u001b[0m in \u001b[0;36mget_rank\u001b[0;34m(pair)\u001b[0m\n\u001b[1;32m     10\u001b[0m         \u001b[0mtop_text_top_org\u001b[0m\u001b[0;34m.\u001b[0m\u001b[0mappend\u001b[0m\u001b[0;34m(\u001b[0m\u001b[0;34m[\u001b[0m\u001b[0mrow\u001b[0m\u001b[0;34m,\u001b[0m\u001b[0mcol\u001b[0m\u001b[0;34m]\u001b[0m\u001b[0;34m)\u001b[0m\u001b[0;34m\u001b[0m\u001b[0m\n\u001b[1;32m     11\u001b[0m     \u001b[0;32mif\u001b[0m \u001b[0mrank\u001b[0m \u001b[0;34m>\u001b[0m \u001b[0mcos_df\u001b[0m\u001b[0;34m.\u001b[0m\u001b[0mshape\u001b[0m\u001b[0;34m[\u001b[0m\u001b[0;36m0\u001b[0m\u001b[0;34m]\u001b[0m \u001b[0;34m-\u001b[0m \u001b[0;36m50000\u001b[0m\u001b[0;34m:\u001b[0m\u001b[0;34m\u001b[0m\u001b[0m\n\u001b[0;32m---> 12\u001b[0;31m         \u001b[0mtop_text_bottom_org\u001b[0m\u001b[0;34m.\u001b[0m\u001b[0mappend\u001b[0m\u001b[0;34m(\u001b[0m\u001b[0;34m[\u001b[0m\u001b[0mrow\u001b[0m\u001b[0;34m,\u001b[0m\u001b[0mcol\u001b[0m\u001b[0;34m]\u001b[0m\u001b[0;34m)\u001b[0m\u001b[0;34m\u001b[0m\u001b[0m\n\u001b[0m\u001b[1;32m     13\u001b[0m \u001b[0mnp\u001b[0m\u001b[0;34m.\u001b[0m\u001b[0mapply_along_axis\u001b[0m\u001b[0;34m(\u001b[0m\u001b[0mget_rank\u001b[0m\u001b[0;34m,\u001b[0m \u001b[0;36m1\u001b[0m\u001b[0;34m,\u001b[0m \u001b[0mres\u001b[0m\u001b[0;34m)\u001b[0m\u001b[0;34m\u001b[0m\u001b[0m\n\u001b[1;32m     14\u001b[0m \u001b[0;34m\u001b[0m\u001b[0m\n",
      "\u001b[0;31mAttributeError\u001b[0m: 'numpy.ndarray' object has no attribute 'append'"
     ]
    }
   ],
   "source": [
    "# get row/col pairs that are in the extremes\n",
    "top_text_top_org = []\n",
    "bottom_text_top_org = []\n",
    "\n",
    "def get_rank(pair):\n",
    "    row, col = pair\n",
    "    rank = cos_df.index[(cos_df['row_ID'] == row) & (cos_df['col_ID'] == col)].tolist()[0]\n",
    "    print(rank)\n",
    "    if rank < 50000:\n",
    "        top_text_top_org.append([row,col])\n",
    "    if rank > cos_df.shape[0] - 50000:\n",
    "        top_text_bottom_org.append([row,col])\n",
    "np.apply_along_axis(get_rank, 1, res)\n",
    "\n",
    "top_text_top_org = np.array(top_text_top_org)\n",
    "top_text_bottom_org = np.array(top_text_bottom_org)"
   ]
  },
  {
   "cell_type": "code",
   "execution_count": 172,
   "metadata": {},
   "outputs": [
    {
     "data": {
      "text/plain": [
       "(32, 2)"
      ]
     },
     "execution_count": 172,
     "metadata": {},
     "output_type": "execute_result"
    }
   ],
   "source": [
    "top_text_top_org.shape"
   ]
  },
  {
   "cell_type": "code",
   "execution_count": 176,
   "metadata": {},
   "outputs": [],
   "source": [
    "control=df_sub[df_sub['ECHO']==1].iloc[top_text_top_org[:,0]].index.values\n",
    "treat=df_sub[df_sub['ECHO']==0].iloc[top_text_top_org[:,1]].index.values\n",
    "top_top_texts = np.vstack([texts.loc[control]['TEXT'].values.astype(str),texts.loc[treat]['TEXT'].values])\n",
    "df_out = pd.DataFrame(top_top_texts.T).replace(\"\\\\\", \"\").replace('\\n',' ', regex=True).replace('\\r',' ', regex=True).replace(\"\\\"\", \"\").replace(\"\\'\", \"\")\n",
    "df_out[0] = df_out[0].astype(str).str[:4000]\n",
    "df_out[1] = df_out[1].astype(str).str[:1000]\n",
    "\n",
    "df_out.to_csv('top-top.csv',index=None)"
   ]
  },
  {
   "cell_type": "code",
   "execution_count": 177,
   "metadata": {},
   "outputs": [
    {
     "ename": "NameError",
     "evalue": "name 'bottom_text_top_org' is not defined",
     "output_type": "error",
     "traceback": [
      "\u001b[0;31m-------------------------------------------------------------------\u001b[0m",
      "\u001b[0;31mNameError\u001b[0m                         Traceback (most recent call last)",
      "\u001b[0;32m<ipython-input-177-4220c844f66c>\u001b[0m in \u001b[0;36m<module>\u001b[0;34m()\u001b[0m\n\u001b[0;32m----> 1\u001b[0;31m \u001b[0mcontrol\u001b[0m\u001b[0;34m=\u001b[0m\u001b[0mdf_sub\u001b[0m\u001b[0;34m[\u001b[0m\u001b[0mdf_sub\u001b[0m\u001b[0;34m[\u001b[0m\u001b[0;34m'ECHO'\u001b[0m\u001b[0;34m]\u001b[0m\u001b[0;34m==\u001b[0m\u001b[0;36m1\u001b[0m\u001b[0;34m]\u001b[0m\u001b[0;34m.\u001b[0m\u001b[0miloc\u001b[0m\u001b[0;34m[\u001b[0m\u001b[0mbottom_text_top_org\u001b[0m\u001b[0;34m[\u001b[0m\u001b[0;34m:\u001b[0m\u001b[0;34m,\u001b[0m\u001b[0;36m0\u001b[0m\u001b[0;34m]\u001b[0m\u001b[0;34m]\u001b[0m\u001b[0;34m.\u001b[0m\u001b[0mindex\u001b[0m\u001b[0;34m.\u001b[0m\u001b[0mvalues\u001b[0m\u001b[0;34m\u001b[0m\u001b[0m\n\u001b[0m\u001b[1;32m      2\u001b[0m \u001b[0mtreat\u001b[0m\u001b[0;34m=\u001b[0m\u001b[0mdf_sub\u001b[0m\u001b[0;34m[\u001b[0m\u001b[0mdf_sub\u001b[0m\u001b[0;34m[\u001b[0m\u001b[0;34m'ECHO'\u001b[0m\u001b[0;34m]\u001b[0m\u001b[0;34m==\u001b[0m\u001b[0;36m0\u001b[0m\u001b[0;34m]\u001b[0m\u001b[0;34m.\u001b[0m\u001b[0miloc\u001b[0m\u001b[0;34m[\u001b[0m\u001b[0mbottom_text_top_org\u001b[0m\u001b[0;34m[\u001b[0m\u001b[0;34m:\u001b[0m\u001b[0;34m,\u001b[0m\u001b[0;36m1\u001b[0m\u001b[0;34m]\u001b[0m\u001b[0;34m]\u001b[0m\u001b[0;34m.\u001b[0m\u001b[0mindex\u001b[0m\u001b[0;34m.\u001b[0m\u001b[0mvalues\u001b[0m\u001b[0;34m\u001b[0m\u001b[0m\n\u001b[1;32m      3\u001b[0m \u001b[0mtop_top_texts\u001b[0m \u001b[0;34m=\u001b[0m \u001b[0mnp\u001b[0m\u001b[0;34m.\u001b[0m\u001b[0mvstack\u001b[0m\u001b[0;34m(\u001b[0m\u001b[0;34m[\u001b[0m\u001b[0mtexts\u001b[0m\u001b[0;34m.\u001b[0m\u001b[0mloc\u001b[0m\u001b[0;34m[\u001b[0m\u001b[0mcontrol\u001b[0m\u001b[0;34m]\u001b[0m\u001b[0;34m[\u001b[0m\u001b[0;34m'TEXT'\u001b[0m\u001b[0;34m]\u001b[0m\u001b[0;34m.\u001b[0m\u001b[0mvalues\u001b[0m\u001b[0;34m.\u001b[0m\u001b[0mastype\u001b[0m\u001b[0;34m(\u001b[0m\u001b[0mstr\u001b[0m\u001b[0;34m)\u001b[0m\u001b[0;34m,\u001b[0m\u001b[0mtexts\u001b[0m\u001b[0;34m.\u001b[0m\u001b[0mloc\u001b[0m\u001b[0;34m[\u001b[0m\u001b[0mtreat\u001b[0m\u001b[0;34m]\u001b[0m\u001b[0;34m[\u001b[0m\u001b[0;34m'TEXT'\u001b[0m\u001b[0;34m]\u001b[0m\u001b[0;34m.\u001b[0m\u001b[0mvalues\u001b[0m\u001b[0;34m]\u001b[0m\u001b[0;34m)\u001b[0m\u001b[0;34m\u001b[0m\u001b[0m\n\u001b[1;32m      4\u001b[0m \u001b[0mdf_out\u001b[0m \u001b[0;34m=\u001b[0m \u001b[0mpd\u001b[0m\u001b[0;34m.\u001b[0m\u001b[0mDataFrame\u001b[0m\u001b[0;34m(\u001b[0m\u001b[0mtop_top_texts\u001b[0m\u001b[0;34m.\u001b[0m\u001b[0mT\u001b[0m\u001b[0;34m)\u001b[0m\u001b[0;34m.\u001b[0m\u001b[0mreplace\u001b[0m\u001b[0;34m(\u001b[0m\u001b[0;34m\"\\\\\"\u001b[0m\u001b[0;34m,\u001b[0m \u001b[0;34m\"\"\u001b[0m\u001b[0;34m)\u001b[0m\u001b[0;34m.\u001b[0m\u001b[0mreplace\u001b[0m\u001b[0;34m(\u001b[0m\u001b[0;34m'\\n'\u001b[0m\u001b[0;34m,\u001b[0m\u001b[0;34m' '\u001b[0m\u001b[0;34m,\u001b[0m \u001b[0mregex\u001b[0m\u001b[0;34m=\u001b[0m\u001b[0;32mTrue\u001b[0m\u001b[0;34m)\u001b[0m\u001b[0;34m.\u001b[0m\u001b[0mreplace\u001b[0m\u001b[0;34m(\u001b[0m\u001b[0;34m'\\r'\u001b[0m\u001b[0;34m,\u001b[0m\u001b[0;34m' '\u001b[0m\u001b[0;34m,\u001b[0m \u001b[0mregex\u001b[0m\u001b[0;34m=\u001b[0m\u001b[0;32mTrue\u001b[0m\u001b[0;34m)\u001b[0m\u001b[0;34m.\u001b[0m\u001b[0mreplace\u001b[0m\u001b[0;34m(\u001b[0m\u001b[0;34m\"\\\"\"\u001b[0m\u001b[0;34m,\u001b[0m \u001b[0;34m\"\"\u001b[0m\u001b[0;34m)\u001b[0m\u001b[0;34m.\u001b[0m\u001b[0mreplace\u001b[0m\u001b[0;34m(\u001b[0m\u001b[0;34m\"\\'\"\u001b[0m\u001b[0;34m,\u001b[0m \u001b[0;34m\"\"\u001b[0m\u001b[0;34m)\u001b[0m\u001b[0;34m\u001b[0m\u001b[0m\n\u001b[1;32m      5\u001b[0m \u001b[0mdf_out\u001b[0m\u001b[0;34m[\u001b[0m\u001b[0;36m0\u001b[0m\u001b[0;34m]\u001b[0m \u001b[0;34m=\u001b[0m \u001b[0mdf_out\u001b[0m\u001b[0;34m[\u001b[0m\u001b[0;36m0\u001b[0m\u001b[0;34m]\u001b[0m\u001b[0;34m.\u001b[0m\u001b[0mastype\u001b[0m\u001b[0;34m(\u001b[0m\u001b[0mstr\u001b[0m\u001b[0;34m)\u001b[0m\u001b[0;34m.\u001b[0m\u001b[0mstr\u001b[0m\u001b[0;34m[\u001b[0m\u001b[0;34m:\u001b[0m\u001b[0;36m4000\u001b[0m\u001b[0;34m]\u001b[0m\u001b[0;34m\u001b[0m\u001b[0m\n",
      "\u001b[0;31mNameError\u001b[0m: name 'bottom_text_top_org' is not defined"
     ]
    }
   ],
   "source": [
    "control=df_sub[df_sub['ECHO']==1].iloc[bottom_text_top_org[:,0]].index.values\n",
    "treat=df_sub[df_sub['ECHO']==0].iloc[bottom_text_top_org[:,1]].index.values\n",
    "top_top_texts = np.vstack([texts.loc[control]['TEXT'].values.astype(str),texts.loc[treat]['TEXT'].values])\n",
    "df_out = pd.DataFrame(top_top_texts.T).replace(\"\\\\\", \"\").replace('\\n',' ', regex=True).replace('\\r',' ', regex=True).replace(\"\\\"\", \"\").replace(\"\\'\", \"\")\n",
    "df_out[0] = df_out[0].astype(str).str[:4000]\n",
    "df_out[1] = df_out[1].astype(str).str[:4000]\n",
    "\n",
    "df_out.to_csv('top-bottom.csv',index=None)"
   ]
  },
  {
   "cell_type": "code",
   "execution_count": 16,
   "metadata": {},
   "outputs": [],
   "source": [
    "rankings = np.searchsorted(, -cosines[res[:,0],res[:,1]])"
   ]
  },
  {
   "cell_type": "code",
   "execution_count": 17,
   "metadata": {},
   "outputs": [
    {
     "data": {
      "image/png": "[encoded data removed]",
      "text/plain": [
       "<matplotlib.figure.Figure at 0x14286fc50>"
      ]
     },
     "metadata": {},
     "output_type": "display_data"
    }
   ],
   "source": [
    "import matplotlib.pyplot as plt\n",
    "plt.hist(rankings.astype(int),bins=50)\n",
    "plt.axvline(x=787*2143)\n",
    "plt.show()"
   ]
  },
  {
   "cell_type": "code",
   "execution_count": 18,
   "metadata": {},
   "outputs": [
    {
     "data": {
      "text/plain": [
       "array([  40263,  940300,  276518, 1588248,  895252,  929479,  835291,\n",
       "       1491993,  119959,  706888,  992816, 1072183,  351535, 1031966,\n",
       "       1170433,  915098,  174297, 1305974, 1073043,  999450,   48453,\n",
       "       1465008, 1380692,  956634, 1010095,  962137,  107887,  358429,\n",
       "        561678, 1254993, 1191043, 1309090,  854985,  168733,  179074,\n",
       "        304663,  131296, 1413861,  204627, 1377446,  478593,  620221,\n",
       "        934804,  382719,  278729, 1219334,  276638, 1363698,  147205,\n",
       "       1069574,  820942, 1387604, 1048917,  131991,  553369, 1063852,\n",
       "       1490751,  582313, 1026944, 1653791, 1161266, 1239350, 1186846,\n",
       "        747576,  236873, 1155608, 1020540, 1234005,  526005, 1121790,\n",
       "         97912, 1106565,   66596,  713819,  628470,  864496,  460756,\n",
       "        928439, 1198908,  696970, 1425207, 1019683,  999245, 1132591,\n",
       "        316226, 1306746, 1063301,  171371,  632792, 1681162, 1336120,\n",
       "        474455, 1434820,  783533, 1442132,  695677, 1419198, 1381657,\n",
       "        321537, 1510368,  752609, 1013736, 1219770, 1230911, 1012104,\n",
       "        182232,  979447,  733328,  437424, 1660242, 1451529,  351930,\n",
       "        159976, 1660788,  935057,   84078, 1099948, 1152623,  316866,\n",
       "       1238995,  392873,  473853, 1101178,  784114, 1487472,  602854,\n",
       "       1567248,   33012, 1092474, 1308267,  213143, 1460759,  751034,\n",
       "        466077,   94113,  397177,  438771,  850830,  443253,  923344,\n",
       "       1458831,  720895,  346876,  100900,  882006,  807943, 1107577,\n",
       "       1394860, 1499055,  327894,   17504,  930928,  335631, 1020795,\n",
       "        961679,  553702,  762034,  440290,   48398,  236181, 1489240,\n",
       "       1408609,  537424, 1180039,  396878,  526900, 1412372,  950171,\n",
       "       1328792,   66199,   32930, 1433008,  152507, 1668808,  486039,\n",
       "        551668,  756638,  442728,  189707, 1491739,  801385,  832884,\n",
       "        711268, 1643749, 1558898, 1627130, 1419768,  556927,  367112,\n",
       "        613901, 1362871,  137329, 1566135, 1259986,  935478, 1663916,\n",
       "        183638,  660477,  968212, 1051750, 1557526,  493517,  465837,\n",
       "       1148293, 1220803,  720741,   67151, 1473299,  246382,  577444,\n",
       "        285242,  348048, 1128386, 1324207,  996403,  901566,  343732,\n",
       "        324705, 1488338, 1609136,   51184,  544083,  368099,  370594,\n",
       "        871990,  314836, 1518785,  376361,  729116,  548632, 1502092,\n",
       "        704182,  110705,  667496,  632828,  802881,  736371, 1269168,\n",
       "        577715,  127720,  405883,   42805, 1680683, 1281914, 1237415,\n",
       "       1453669, 1647829,   49994,  384286,  978856,  810173, 1181543,\n",
       "        287154, 1351779,  411168,  214489,  929318,  118221, 1144140,\n",
       "        909870, 1578405,  393502,  390069,   68410, 1178883,  110289,\n",
       "        736693, 1003938,  172034,  883931,  928862, 1449570,  847131,\n",
       "        714627, 1072897,   44851,  453217,  869845, 1616056,  516409,\n",
       "        407956,   71500, 1378686,  897803, 1152950, 1499950, 1259162,\n",
       "       1643298,   91909, 1066335, 1511545,  590767, 1440805,   69177,\n",
       "       1223262,  990131, 1498933,  662807,  606740, 1252240, 1630027,\n",
       "        861717,  406123,  638428,  191367,  178382, 1590817, 1232244,\n",
       "       1491511,  896224,  187602,  541329,  253289,  309914,  397230,\n",
       "       1171764,  945853, 1514094,  188755,  583914, 1010513, 1501615,\n",
       "        367486,  757947, 1630094,  239547, 1587922, 1367169, 1063522,\n",
       "        402731,  761424,  510373,  781298,  113095, 1310925, 1462402,\n",
       "       1526504,  430702, 1302541,    5786,  284260, 1514962, 1534344,\n",
       "       1295200, 1544186, 1392519, 1529253, 1237018,  509732,  536986,\n",
       "        449765,  832328,   10435,  915379,  813007,  661114, 1532404,\n",
       "        293426,  552963,  401955,  415898,  175849, 1683497,  768993,\n",
       "         39643,  725918, 1528129, 1333744,  961304,  966445,  951395,\n",
       "        112639,  454067,  576444, 1089532,  750431, 1160431, 1345015,\n",
       "       1233308,  855201,   87451,  839659, 1354512,   81001, 1618621,\n",
       "       1526599,  158436,  435613,  440784,  757711,  754854, 1659207,\n",
       "        363179,   62622,  975053,  121264,  797121,  103802, 1676641,\n",
       "        240595,  994851,  341727,  357379, 1209244, 1033844,  116104,\n",
       "       1679382, 1093242,  273289,  210852,  457169,  227180,  382118,\n",
       "        423353,  548225,  300465, 1038626, 1669713, 1427123,  283480,\n",
       "       1058513, 1566534, 1204372,  295499,  112721,   35099,  580016,\n",
       "       1402017, 1512596,  162143,   66344,  807779, 1285202,  109541,\n",
       "        167339, 1364568, 1055085, 1271758,  399839,  335274, 1360167,\n",
       "       1219717,  341704,  916196, 1334827, 1624957,  198500,  994616,\n",
       "       1396262,  323510,  938479, 1298492,   63046,  871027, 1360275,\n",
       "        892739, 1128830,   57961,  205441, 1260619, 1390030,  511799,\n",
       "        715693, 1121840,  974757,  229976,  174122, 1385049,  444429,\n",
       "         14099, 1460672, 1333031,  442583,  324585, 1318366,  642954,\n",
       "        631194,  103614, 1514647,   57978, 1104328, 1365005, 1434635,\n",
       "       1033285,  683369,   11860,  413818, 1481697, 1366104, 1505140,\n",
       "         66544,  140430,   39162,  287187, 1102780,  393731,  343273,\n",
       "       1027531,  559845,  848749,  637325,  473220,  673072,  696501,\n",
       "        729238,  468649, 1503394,  802143,  484605,   90558, 1501449,\n",
       "        862715,   84921, 1339488, 1496007,  898843, 1364514, 1447361,\n",
       "       1250474,  489582, 1292375,  344056, 1170319, 1134998,  999395,\n",
       "       1602935,   19757,   99861,  353968,  287295, 1502397, 1175830,\n",
       "       1209642,  856951, 1295852,   10273,   44342, 1114290, 1676473,\n",
       "       1306523,  737290,  996155,  470224,  467472, 1294138,   28138,\n",
       "        361072,  516615,  850121, 1613429,  402356,  747686,   30524,\n",
       "        105833,  271843,   73010, 1142640,  575348, 1144686,  969317,\n",
       "        455846, 1403278, 1510546, 1603864, 1172509, 1444019, 1513932,\n",
       "        272367,  703882, 1568361,  721937,  991484, 1633469,  511967,\n",
       "       1172869, 1007113, 1349649,  898642, 1422798,   77122, 1020563,\n",
       "       1052415,  395830,  881039, 1413234, 1595460,  754878, 1303030,\n",
       "       1423611,  285691,  188000, 1277275,  885367,  298103, 1645355,\n",
       "        634582,  803478,  674414,  682893,   81383,  889015, 1494725,\n",
       "        840427, 1544247,  391823,  776239,  702949, 1157786, 1493304,\n",
       "       1430222,  129114, 1060921, 1415123, 1685225,  510768,   47756,\n",
       "         10477,   14273,  597124, 1451677,  199867,  881155,  273319,\n",
       "        860723,  283030,  575766,   32828,  111877,  882836,  782360,\n",
       "        345876, 1454068,  856483,  131397, 1500400, 1067479,  103382,\n",
       "       1156243, 1154123,   41839,  268007,  708926,   92555,  818683,\n",
       "        614347,    5097, 1294001,  694242,  109153,  362277, 1420392,\n",
       "        603665, 1331101,  136250,  599299, 1478639,  550907, 1063763,\n",
       "        120822,  559663,  762656,  638926,  679854,  367164,  771257,\n",
       "        823608, 1455710,  558721,  460306,  871715,  215918, 1213540,\n",
       "       1519292,  448301, 1618382,  661337,  883120, 1339250, 1372757,\n",
       "        239484,  140196,  845181,  815750, 1319016, 1224547,  872941,\n",
       "        900489,  863100,  895893,  820200, 1340723, 1233612,  332626,\n",
       "        816482,  159057, 1402549,  475059,   41702,  134559, 1369664,\n",
       "        671360,  996486,  169358, 1156113,   58268,  613693,  487233,\n",
       "        952704,  153380,  841279,  795219,  978637, 1209175, 1287887,\n",
       "       1660404,  126088,   11203,  648975,  615148,  179983, 1681509,\n",
       "        417190, 1001633,  638594, 1423473, 1549742,  389235,  862881,\n",
       "        718408, 1609193,  603070,  736558,   41283,  663476,  501156,\n",
       "        125265,  835087,  957693,  585386,  513524, 1524342,  842797,\n",
       "        589028,  355174,  895358,  397530,  591313,  337362, 1186606,\n",
       "        496453,  614373, 1548241, 1384933,  180601, 1492308,  533781,\n",
       "         27655, 1494253, 1495545,  403415,  250258,  242556,  886629,\n",
       "        672032, 1064613, 1007559,  337521,  255274, 1407497,  777131,\n",
       "       1309234,  775853,  546608,  376710,  446306, 1568213, 1009637,\n",
       "        214353, 1495835, 1361291, 1588472,   30010,  423554,  125392,\n",
       "        626698,  536967, 1665776])"
      ]
     },
     "execution_count": 18,
     "metadata": {},
     "output_type": "execute_result"
    }
   ],
   "source": [
    "rankings"
   ]
  },
  {
   "cell_type": "code",
   "execution_count": 192,
   "metadata": {},
   "outputs": [],
   "source": [
    "# convert matched IDs to row ID's\n",
    "def find_el(el):\n",
    "    res = np.where(df_sub.index.values==el)\n",
    "    if len(res[0]) == 0:\n",
    "        return None\n",
    "    return res[0][0]\n",
    "f = np.vectorize(find_el)\n",
    "matched_ids=f(df_sub['MATCH.ID'])"
   ]
  },
  {
   "cell_type": "code",
   "execution_count": 193,
   "metadata": {},
   "outputs": [],
   "source": [
    "# for each treatment row ID, find where the matched ID is in terms of the pairwise cos sim over control ID's\n",
    "positions = []\n",
    "for i,treat_id in enumerate(treat_ids):\n",
    "    ranking = ranking_treat_control[i]\n",
    "    id_to_find = matched_ids[treat_id]\n",
    "    if id_to_find:\n",
    "        id = np.where(ranking == id_to_find)[0]\n",
    "        if id:\n",
    "            positions.append(id[0])\n",
    "    else:\n",
    "        positions.append(None)\n",
    "positions = np.array(positions)"
   ]
  },
  {
   "cell_type": "code",
   "execution_count": 199,
   "metadata": {},
   "outputs": [
    {
     "data": {
      "image/png": "[encoded data removed]",
      "text/plain": [
       "<matplotlib.figure.Figure at 0x18fe969e8>"
      ]
     },
     "metadata": {},
     "output_type": "display_data"
    }
   ],
   "source": [
    "import matplotlib.pyplot as plt\n",
    "data=positions[positions!=None]\n",
    "plt.hist(data.astype(int),bins=50)\n",
    "plt.show()"
   ]
  },
  {
   "cell_type": "code",
   "execution_count": 200,
   "metadata": {},
   "outputs": [
    {
     "data": {
      "text/plain": [
       "787"
      ]
     },
     "execution_count": 200,
     "metadata": {},
     "output_type": "execute_result"
    }
   ],
   "source": [
    "np.sum(positions!=None)"
   ]
  },
  {
   "cell_type": "code",
   "execution_count": null,
   "metadata": {},
   "outputs": [],
   "source": []
  }
 ],
 "metadata": {
  "kernelspec": {
   "display_name": "ml",
   "language": "python",
   "name": "ml"
  },
  "language_info": {
   "codemirror_mode": {
    "name": "ipython",
    "version": 3
   },
   "file_extension": ".py",
   "mimetype": "text/x-python",
   "name": "python",
   "nbconvert_exporter": "python",
   "pygments_lexer": "ipython3",
   "version": "3.6.3"
  }
 },
 "nbformat": 4,
 "nbformat_minor": 2
}

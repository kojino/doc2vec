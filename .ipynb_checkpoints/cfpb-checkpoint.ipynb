{
 "cells": [
  {
   "cell_type": "code",
   "execution_count": 1,
   "metadata": {
    "collapsed": true
   },
   "outputs": [],
   "source": [
    "# Import libraries\n",
    "import gensim.models as g\n",
    "from collections import namedtuple\n",
    "import matplotlib.pyplot as plt\n",
    "from mpl_toolkits.mplot3d import Axes3D\n",
    "import numpy as np\n",
    "import pandas as pd\n",
    "from sklearn.model_selection import train_test_split\n",
    "import sys \n",
    "from sklearn.manifold import TSNE\n",
    " \n",
    "\n",
    "#parameters\n",
    "doc2vec_dir=\"model/enwiki_dbow/doc2vec.bin\""
   ]
  },
  {
   "cell_type": "code",
   "execution_count": 2,
   "metadata": {
    "collapsed": false
   },
   "outputs": [
    {
     "data": {
      "text/plain": [
       "(881981, 18)"
      ]
     },
     "execution_count": 2,
     "metadata": {},
     "output_type": "execute_result"
    }
   ],
   "source": [
    "# Read in complaints\n",
    "complaints = pd.read_csv(\"Consumer_Complaints.csv\")\n",
    "complaints.shape"
   ]
  },
  {
   "cell_type": "code",
   "execution_count": 3,
   "metadata": {
    "collapsed": false
   },
   "outputs": [
    {
     "data": {
      "text/plain": [
       "(187645, 18)"
      ]
     },
     "execution_count": 3,
     "metadata": {},
     "output_type": "execute_result"
    }
   ],
   "source": [
    "# Drop null narratives\n",
    "complaints = complaints[complaints[\"Consumer complaint narrative\"].notnull()]\n",
    "complaints.shape"
   ]
  },
  {
   "cell_type": "code",
   "execution_count": 4,
   "metadata": {
    "collapsed": true
   },
   "outputs": [],
   "source": [
    "# Split to train and test\n",
    "# train_complaints, test_complaints = train_test_split(\n",
    "    complaints, test_size=0.1, random_state=42)"
   ]
  },
  {
   "cell_type": "code",
   "execution_count": 96,
   "metadata": {
    "collapsed": true
   },
   "outputs": [],
   "source": [
    "# Doc2Vec hyper parameters\n",
    "\n",
    "size = 10 # dimension of the hidden layer (default: 100)\n",
    "window = 5 # max distance between the predicted word and context words (default: 5)\n",
    "min_count = 5 # ignore all words with total frequency lower than this (default: 5)\n",
    "\n",
    "\n",
    "# The ideal parameters\n",
    "\n",
    "# vector_size = 300\n",
    "# window_size = 15\n",
    "# min_count = 1\n",
    "# sampling_threshold = 1e-5\n",
    "# negative_size = 5\n",
    "# train_epoch = 100\n",
    "# dm = 0 #0 = dbow; 1 = dmpv\n",
    "# worker_count = 1 #number of parallel processes"
   ]
  },
  {
   "cell_type": "code",
   "execution_count": null,
   "metadata": {
    "collapsed": false
   },
   "outputs": [],
   "source": [
    "# Transform narratives as input\n",
    "# train_narratives = transform(train_complaints[\"Consumer complaint narrative\"])"
   ]
  },
  {
   "cell_type": "code",
   "execution_count": 39,
   "metadata": {
    "collapsed": false
   },
   "outputs": [],
   "source": [
    "# Train model \n",
    "# model = g.doc2vec.Doc2Vec(train_narratives, size = size, window = window, min_count = min_count)\n",
    "\n",
    "# Train ideal model \n",
    "# model = g.doc2vec.Doc2Vec(train_narratives, \n",
    "#                         size=vector_size, \n",
    "#                         window=window_size, \n",
    "#                         min_count=min_count, \n",
    "#                         sample=sampling_threshold, \n",
    "#                         workers=worker_count, \n",
    "#                         hs=0, \n",
    "#                         dm=dm, \n",
    "#                         negative=negative_size, \n",
    "#                         dbow_words=1,\n",
    "#                         dm_concat=1, \n",
    "#                         iter=train_epoch)"
   ]
  },
  {
   "cell_type": "code",
   "execution_count": 5,
   "metadata": {
    "collapsed": false
   },
   "outputs": [],
   "source": [
    "pretrained_model = g.Doc2Vec.load(doc2vec_dir)"
   ]
  },
  {
   "cell_type": "code",
   "execution_count": 91,
   "metadata": {
    "collapsed": false
   },
   "outputs": [
    {
     "ename": "IndexError",
     "evalue": "only integers, slices (`:`), ellipsis (`...`), numpy.newaxis (`None`) and integer or boolean arrays are valid indices",
     "output_type": "error",
     "traceback": [
      "\u001b[0;31m-------------------------------------------------------------------\u001b[0m",
      "\u001b[0;31mIndexError\u001b[0m                        Traceback (most recent call last)",
      "\u001b[0;32m<ipython-input-91-efa3dc82168f>\u001b[0m in \u001b[0;36m<module>\u001b[0;34m()\u001b[0m\n\u001b[0;32m----> 1\u001b[0;31m \u001b[0mtest_docs\u001b[0m \u001b[0;34m=\u001b[0m \u001b[0mnp\u001b[0m\u001b[0;34m.\u001b[0m\u001b[0marray\u001b[0m\u001b[0;34m(\u001b[0m\u001b[0mlist\u001b[0m\u001b[0;34m(\u001b[0m\u001b[0mtest_complaints\u001b[0m\u001b[0;34m[\u001b[0m\u001b[0;34m\"Consumer complaint narrative\"\u001b[0m\u001b[0;34m]\u001b[0m\u001b[0;34m)\u001b[0m\u001b[0;34m)\u001b[0m\u001b[0;34m\u001b[0m\u001b[0m\n\u001b[0m",
      "\u001b[0;31mIndexError\u001b[0m: only integers, slices (`:`), ellipsis (`...`), numpy.newaxis (`None`) and integer or boolean arrays are valid indices"
     ]
    }
   ],
   "source": [
    "train_docs = np.array(list(train_complaints[\"Consumer complaint narrative\"]))\n",
    "test_docs = np.array(list(test_complaints[\"Consumer complaint narrative\"]))"
   ]
  },
  {
   "cell_type": "code",
   "execution_count": 89,
   "metadata": {
    "collapsed": false
   },
   "outputs": [
    {
     "name": "stdout",
     "output_type": "stream",
     "text": [
      "Test Document: «We had a loan modification done with Nationstar Mortgage to lower our payments, change to a fixed rate and avoid a foreclosure. But in the long run our payments went up and our mortgage was extended 10 years. Also, I did not receive a copy of the modification.»\n",
      "\n",
      "SIMILAR/DISSIMILAR DOCS PER MODEL Doc2Vec(dbow+w,d300,n5,w15,mc20,s1e-05,t16):\n",
      "\n"
     ]
    },
    {
     "ename": "NameError",
     "evalue": "name 'train_corpus' is not defined",
     "output_type": "error",
     "traceback": [
      "\u001b[0;31m-------------------------------------------------------------------\u001b[0m",
      "\u001b[0;31mNameError\u001b[0m                         Traceback (most recent call last)",
      "\u001b[0;32m<ipython-input-89-96d927e4de62>\u001b[0m in \u001b[0;36m<module>\u001b[0;34m()\u001b[0m\n\u001b[1;32m      8\u001b[0m \u001b[0mprint\u001b[0m\u001b[0;34m(\u001b[0m\u001b[0;34mu'SIMILAR/DISSIMILAR DOCS PER MODEL %s:\\n'\u001b[0m \u001b[0;34m%\u001b[0m \u001b[0mpretrained_model\u001b[0m\u001b[0;34m)\u001b[0m\u001b[0;34m\u001b[0m\u001b[0m\n\u001b[1;32m      9\u001b[0m \u001b[0;32mfor\u001b[0m \u001b[0mlabel\u001b[0m\u001b[0;34m,\u001b[0m \u001b[0mindex\u001b[0m \u001b[0;32min\u001b[0m \u001b[0;34m[\u001b[0m\u001b[0;34m(\u001b[0m\u001b[0;34m'MOST'\u001b[0m\u001b[0;34m,\u001b[0m \u001b[0;36m0\u001b[0m\u001b[0;34m)\u001b[0m\u001b[0;34m,\u001b[0m \u001b[0;34m(\u001b[0m\u001b[0;34m'MEDIAN'\u001b[0m\u001b[0;34m,\u001b[0m \u001b[0mlen\u001b[0m\u001b[0;34m(\u001b[0m\u001b[0msims\u001b[0m\u001b[0;34m)\u001b[0m\u001b[0;34m//\u001b[0m\u001b[0;36m2\u001b[0m\u001b[0;34m)\u001b[0m\u001b[0;34m,\u001b[0m \u001b[0;34m(\u001b[0m\u001b[0;34m'LEAST'\u001b[0m\u001b[0;34m,\u001b[0m \u001b[0mlen\u001b[0m\u001b[0;34m(\u001b[0m\u001b[0msims\u001b[0m\u001b[0;34m)\u001b[0m \u001b[0;34m-\u001b[0m \u001b[0;36m1\u001b[0m\u001b[0;34m)\u001b[0m\u001b[0;34m]\u001b[0m\u001b[0;34m:\u001b[0m\u001b[0;34m\u001b[0m\u001b[0m\n\u001b[0;32m---> 10\u001b[0;31m     \u001b[0mprint\u001b[0m\u001b[0;34m(\u001b[0m\u001b[0;34mu'%s %s: «%s»\\n'\u001b[0m \u001b[0;34m%\u001b[0m \u001b[0;34m(\u001b[0m\u001b[0mlabel\u001b[0m\u001b[0;34m,\u001b[0m \u001b[0msims\u001b[0m\u001b[0;34m[\u001b[0m\u001b[0mindex\u001b[0m\u001b[0;34m]\u001b[0m\u001b[0;34m,\u001b[0m \u001b[0;34m' '\u001b[0m\u001b[0;34m.\u001b[0m\u001b[0mjoin\u001b[0m\u001b[0;34m(\u001b[0m\u001b[0mtrain_corpus\u001b[0m\u001b[0;34m[\u001b[0m\u001b[0msims\u001b[0m\u001b[0;34m[\u001b[0m\u001b[0mindex\u001b[0m\u001b[0;34m]\u001b[0m\u001b[0;34m[\u001b[0m\u001b[0;36m0\u001b[0m\u001b[0;34m]\u001b[0m\u001b[0;34m]\u001b[0m\u001b[0;34m.\u001b[0m\u001b[0mwords\u001b[0m\u001b[0;34m)\u001b[0m\u001b[0;34m)\u001b[0m\u001b[0;34m)\u001b[0m\u001b[0;34m\u001b[0m\u001b[0m\n\u001b[0m",
      "\u001b[0;31mNameError\u001b[0m: name 'train_corpus' is not defined"
     ]
    }
   ],
   "source": [
    "test_doc = test_docs[0]\n",
    "\n",
    "inferred_vector = model.infer_vector(test_complaint)\n",
    "sims = model.docvecs.most_similar([inferred_vector], topn=len(model.docvecs))\n",
    "\n",
    "\n",
    "print('Test Document: «{}»\\n'.format(test_doc))\n",
    "print(u'SIMILAR/DISSIMILAR DOCS PER MODEL %s:\\n' % pretrained_model)\n",
    "for label, index in [('MOST', 0), ('MEDIAN', len(sims)//2), ('LEAST', len(sims) - 1)]:\n",
    "    print(u'%s %s: «%s»\\n' % (label, sims[index], ' '.join(train_doc[sims[index][0]].words)))"
   ]
  },
  {
   "cell_type": "code",
   "execution_count": 78,
   "metadata": {
    "collapsed": false
   },
   "outputs": [
    {
     "name": "stdout",
     "output_type": "stream",
     "text": [
      "<class 'numpy.ndarray'>\n"
     ]
    },
    {
     "ename": "AttributeError",
     "evalue": "'list' object has no attribute 'shape'",
     "output_type": "error",
     "traceback": [
      "\u001b[0;31m-------------------------------------------------------------------\u001b[0m",
      "\u001b[0;31mAttributeError\u001b[0m                    Traceback (most recent call last)",
      "\u001b[0;32m<ipython-input-78-596ec0b233b4>\u001b[0m in \u001b[0;36m<module>\u001b[0;34m()\u001b[0m\n\u001b[1;32m      1\u001b[0m \u001b[0;31m# Test with new docsdocvec = d2v_model.docvecs[99]\u001b[0m\u001b[0;34m\u001b[0m\u001b[0;34m\u001b[0m\u001b[0m\n\u001b[0;32m----> 2\u001b[0;31m \u001b[0mtest_docvecs\u001b[0m \u001b[0;34m=\u001b[0m \u001b[0mtest\u001b[0m\u001b[0;34m(\u001b[0m\u001b[0mtest_narratives\u001b[0m\u001b[0;34m[\u001b[0m\u001b[0;34m:\u001b[0m\u001b[0;36m3\u001b[0m\u001b[0;34m]\u001b[0m\u001b[0;34m,\u001b[0m\u001b[0mtrain_narratives\u001b[0m\u001b[0;34m,\u001b[0m\u001b[0mpretrained_model\u001b[0m\u001b[0;34m)\u001b[0m\u001b[0;34m\u001b[0m\u001b[0m\n\u001b[0m",
      "\u001b[0;32m<ipython-input-35-e9dd13ba476c>\u001b[0m in \u001b[0;36mtest\u001b[0;34m(docs_test, docs_original, model)\u001b[0m\n\u001b[1;32m      5\u001b[0m         \u001b[0mprint\u001b[0m\u001b[0;34m(\u001b[0m\u001b[0mtype\u001b[0m\u001b[0;34m(\u001b[0m\u001b[0mdocvec\u001b[0m\u001b[0;34m)\u001b[0m\u001b[0;34m)\u001b[0m\u001b[0;34m\u001b[0m\u001b[0m\n\u001b[1;32m      6\u001b[0m         \u001b[0mdocvecs\u001b[0m\u001b[0;34m.\u001b[0m\u001b[0mappend\u001b[0m\u001b[0;34m(\u001b[0m\u001b[0mdocvec\u001b[0m\u001b[0;34m)\u001b[0m\u001b[0;34m\u001b[0m\u001b[0m\n\u001b[0;32m----> 7\u001b[0;31m         \u001b[0msims\u001b[0m \u001b[0;34m=\u001b[0m \u001b[0mmodel\u001b[0m\u001b[0;34m.\u001b[0m\u001b[0mdocvecs\u001b[0m\u001b[0;34m.\u001b[0m\u001b[0mmost_similar\u001b[0m\u001b[0;34m(\u001b[0m\u001b[0mdocvec\u001b[0m\u001b[0;34m)\u001b[0m\u001b[0;34m\u001b[0m\u001b[0m\n\u001b[0m\u001b[1;32m      8\u001b[0m         \u001b[0mprint\u001b[0m\u001b[0;34m(\u001b[0m\u001b[0;34m'Test Document: «{}»\\n'\u001b[0m\u001b[0;34m.\u001b[0m\u001b[0mformat\u001b[0m\u001b[0;34m(\u001b[0m\u001b[0mtest_doc\u001b[0m\u001b[0;34m)\u001b[0m\u001b[0;34m)\u001b[0m\u001b[0;34m\u001b[0m\u001b[0m\n\u001b[1;32m      9\u001b[0m         \u001b[0;32mfor\u001b[0m \u001b[0mlabel\u001b[0m\u001b[0;34m,\u001b[0m \u001b[0mindex\u001b[0m \u001b[0;32min\u001b[0m \u001b[0;34m[\u001b[0m\u001b[0;34m(\u001b[0m\u001b[0;34m'MOST'\u001b[0m\u001b[0;34m,\u001b[0m \u001b[0;36m0\u001b[0m\u001b[0;34m)\u001b[0m\u001b[0;34m,\u001b[0m \u001b[0;34m(\u001b[0m\u001b[0;34m'MEDIAN'\u001b[0m\u001b[0;34m,\u001b[0m \u001b[0mlen\u001b[0m\u001b[0;34m(\u001b[0m\u001b[0msims\u001b[0m\u001b[0;34m)\u001b[0m\u001b[0;34m//\u001b[0m\u001b[0;36m2\u001b[0m\u001b[0;34m)\u001b[0m\u001b[0;34m,\u001b[0m \u001b[0;34m(\u001b[0m\u001b[0;34m'LEAST'\u001b[0m\u001b[0;34m,\u001b[0m \u001b[0mlen\u001b[0m\u001b[0;34m(\u001b[0m\u001b[0msims\u001b[0m\u001b[0;34m)\u001b[0m \u001b[0;34m-\u001b[0m \u001b[0;36m1\u001b[0m\u001b[0;34m)\u001b[0m\u001b[0;34m]\u001b[0m\u001b[0;34m:\u001b[0m\u001b[0;34m\u001b[0m\u001b[0m\n",
      "\u001b[0;32m~/anaconda/envs/ml/lib/python3.6/site-packages/gensim/models/doc2vec.py\u001b[0m in \u001b[0;36mmost_similar\u001b[0;34m(self, positive, negative, topn, clip_start, clip_end, indexer)\u001b[0m\n\u001b[1;32m    437\u001b[0m         there was chosen to be significant, such as more popular tag IDs in lower indexes.)\n\u001b[1;32m    438\u001b[0m         \"\"\"\n\u001b[0;32m--> 439\u001b[0;31m         \u001b[0mself\u001b[0m\u001b[0;34m.\u001b[0m\u001b[0minit_sims\u001b[0m\u001b[0;34m(\u001b[0m\u001b[0;34m)\u001b[0m\u001b[0;34m\u001b[0m\u001b[0m\n\u001b[0m\u001b[1;32m    440\u001b[0m         \u001b[0mclip_end\u001b[0m \u001b[0;34m=\u001b[0m \u001b[0mclip_end\u001b[0m \u001b[0;32mor\u001b[0m \u001b[0mlen\u001b[0m\u001b[0;34m(\u001b[0m\u001b[0mself\u001b[0m\u001b[0;34m.\u001b[0m\u001b[0mdoctag_syn0norm\u001b[0m\u001b[0;34m)\u001b[0m\u001b[0;34m\u001b[0m\u001b[0m\n\u001b[1;32m    441\u001b[0m \u001b[0;34m\u001b[0m\u001b[0m\n",
      "\u001b[0;32m~/anaconda/envs/ml/lib/python3.6/site-packages/gensim/models/doc2vec.py\u001b[0m in \u001b[0;36minit_sims\u001b[0;34m(self, replace)\u001b[0m\n\u001b[1;32m    420\u001b[0m                         mode='w+', shape=self.doctag_syn0.shape)\n\u001b[1;32m    421\u001b[0m                 \u001b[0;32melse\u001b[0m\u001b[0;34m:\u001b[0m\u001b[0;34m\u001b[0m\u001b[0m\n\u001b[0;32m--> 422\u001b[0;31m                     \u001b[0mself\u001b[0m\u001b[0;34m.\u001b[0m\u001b[0mdoctag_syn0norm\u001b[0m \u001b[0;34m=\u001b[0m \u001b[0mempty\u001b[0m\u001b[0;34m(\u001b[0m\u001b[0mself\u001b[0m\u001b[0;34m.\u001b[0m\u001b[0mdoctag_syn0\u001b[0m\u001b[0;34m.\u001b[0m\u001b[0mshape\u001b[0m\u001b[0;34m,\u001b[0m \u001b[0mdtype\u001b[0m\u001b[0;34m=\u001b[0m\u001b[0mREAL\u001b[0m\u001b[0;34m)\u001b[0m\u001b[0;34m\u001b[0m\u001b[0m\n\u001b[0m\u001b[1;32m    423\u001b[0m                 \u001b[0mnp_divide\u001b[0m\u001b[0;34m(\u001b[0m\u001b[0mself\u001b[0m\u001b[0;34m.\u001b[0m\u001b[0mdoctag_syn0\u001b[0m\u001b[0;34m,\u001b[0m \u001b[0msqrt\u001b[0m\u001b[0;34m(\u001b[0m\u001b[0;34m(\u001b[0m\u001b[0mself\u001b[0m\u001b[0;34m.\u001b[0m\u001b[0mdoctag_syn0\u001b[0m \u001b[0;34m**\u001b[0m \u001b[0;36m2\u001b[0m\u001b[0;34m)\u001b[0m\u001b[0;34m.\u001b[0m\u001b[0msum\u001b[0m\u001b[0;34m(\u001b[0m\u001b[0;34m-\u001b[0m\u001b[0;36m1\u001b[0m\u001b[0;34m)\u001b[0m\u001b[0;34m)\u001b[0m\u001b[0;34m[\u001b[0m\u001b[0;34m...\u001b[0m\u001b[0;34m,\u001b[0m \u001b[0mnewaxis\u001b[0m\u001b[0;34m]\u001b[0m\u001b[0;34m,\u001b[0m \u001b[0mself\u001b[0m\u001b[0;34m.\u001b[0m\u001b[0mdoctag_syn0norm\u001b[0m\u001b[0;34m)\u001b[0m\u001b[0;34m\u001b[0m\u001b[0m\n\u001b[1;32m    424\u001b[0m \u001b[0;34m\u001b[0m\u001b[0m\n",
      "\u001b[0;31mAttributeError\u001b[0m: 'list' object has no attribute 'shape'"
     ]
    }
   ],
   "source": [
    "# Test with new docsdocvec = d2v_model.docvecs[99]\n",
    "test_docvecs = test(test_narratives[:3],train_narratives,pretrained_model)"
   ]
  },
  {
   "cell_type": "code",
   "execution_count": 57,
   "metadata": {
    "collapsed": false
   },
   "outputs": [
    {
     "data": {
      "text/plain": [
       "array([ 0.11611506, -0.08314581, -0.02246936,  0.04025301, -0.04130293,\n",
       "        0.01606862,  0.11456499, -0.09222899, -0.06215907, -0.03149335,\n",
       "       -0.05007795, -0.04877304,  0.09158742,  0.00464199,  0.07977795,\n",
       "        0.19420134,  0.02101655, -0.13243946, -0.07281148,  0.01942919,\n",
       "        0.05517575,  0.04692892, -0.00619942, -0.01822099,  0.20244098,\n",
       "        0.00379403, -0.02187642, -0.23527044, -0.0865418 , -0.06700772,\n",
       "       -0.09582287,  0.08323053,  0.08122198,  0.00308062, -0.00726561,\n",
       "       -0.04674635,  0.16209781,  0.08060406,  0.14376506, -0.06448898,\n",
       "        0.04529809,  0.02581753, -0.07873101, -0.19706178,  0.13188355,\n",
       "        0.08465357, -0.13769241,  0.08845502,  0.11306392, -0.06585021,\n",
       "       -0.09001922,  0.02781621, -0.05181398,  0.08071607, -0.0704596 ,\n",
       "        0.05687652, -0.04914697, -0.16846274,  0.04356683, -0.02990933,\n",
       "        0.10471811,  0.03885213,  0.0006367 , -0.05134204,  0.08696466,\n",
       "       -0.04401813,  0.08107843, -0.0212285 , -0.02472083, -0.11592988,\n",
       "        0.01826135, -0.02466438,  0.00216648,  0.01894446, -0.14201178,\n",
       "        0.11199848,  0.15974465,  0.13518336,  0.03470144,  0.00674373,\n",
       "        0.05268524,  0.1515089 ,  0.05012256,  0.03000246, -0.14120917,\n",
       "       -0.02806488, -0.12322317, -0.14221118,  0.00618342, -0.02000791,\n",
       "       -0.05247529, -0.1539938 , -0.03233489,  0.03778895, -0.03750346,\n",
       "       -0.02115896,  0.00744617, -0.19949894,  0.05117911, -0.08062857,\n",
       "       -0.06178371,  0.02079783, -0.04913828,  0.01314096,  0.05613245,\n",
       "       -0.0953855 , -0.01047538,  0.03415918, -0.03755959,  0.00224871,\n",
       "        0.08906491, -0.16928902,  0.03985765, -0.1061067 , -0.17125432,\n",
       "       -0.07251114,  0.10779873,  0.10367594, -0.04311657,  0.09523478,\n",
       "       -0.05660981,  0.10000858, -0.04642574,  0.0803721 , -0.14467646,\n",
       "        0.06688555, -0.03477624, -0.0397319 ,  0.1027609 , -0.0417764 ,\n",
       "        0.0418476 ,  0.01651273, -0.06141357, -0.12411007, -0.04656971,\n",
       "       -0.11503509,  0.01985339, -0.00971776,  0.13412063, -0.05691357,\n",
       "       -0.04393013, -0.0463955 ,  0.09355646, -0.1521484 ,  0.13122658,\n",
       "        0.20098433, -0.02362104,  0.08763769,  0.05482535,  0.06442443,\n",
       "       -0.01156367,  0.01748015, -0.06431919, -0.0506778 ,  0.00945481,\n",
       "       -0.10760011,  0.00172644, -0.13794017,  0.07876467, -0.0503125 ,\n",
       "        0.06560393,  0.00367967,  0.13346501,  0.02756911,  0.15003347,\n",
       "        0.11038739, -0.02892626,  0.14740662,  0.08921881, -0.08570303,\n",
       "        0.09467914, -0.14676461,  0.06144585, -0.14548977,  0.09452074,\n",
       "        0.05750402, -0.05484792,  0.05555622, -0.11168053,  0.19174904,\n",
       "       -0.07199233,  0.06958739, -0.00997475, -0.07886177,  0.04184157,\n",
       "        0.11375277, -0.15738796,  0.14284968, -0.14890538,  0.02611645,\n",
       "       -0.02864448, -0.19774359,  0.09793632,  0.21480189,  0.01527609,\n",
       "       -0.09261101,  0.16686814, -0.07241278, -0.12693515, -0.10372268,\n",
       "        0.00334966, -0.12971821,  0.13467684, -0.06699205,  0.05855324,\n",
       "       -0.00804543, -0.06900994,  0.01519681, -0.11160015,  0.09285145,\n",
       "        0.04404445,  0.06402822, -0.0337765 ,  0.00807359,  0.03255902,\n",
       "        0.01188066, -0.0407544 , -0.07030361, -0.01533118, -0.04516435,\n",
       "        0.18833286,  0.14726348, -0.01770959, -0.0841573 , -0.21804687,\n",
       "       -0.00104182, -0.20194703,  0.15207575, -0.11823538,  0.01529058,\n",
       "        0.03334383, -0.11132651,  0.15855134,  0.05892004,  0.07588633,\n",
       "        0.13875031, -0.00720383, -0.03967604,  0.00386305,  0.0403651 ,\n",
       "       -0.07422735,  0.00611492,  0.01694538,  0.03711477,  0.12813701,\n",
       "        0.00551374, -0.00294449,  0.05269964,  0.11203518,  0.15097861,\n",
       "        0.04745913,  0.02545153,  0.05682587,  0.09014796, -0.08973818,\n",
       "       -0.01896903,  0.03873321, -0.12266365,  0.1151408 , -0.02251139,\n",
       "       -0.10546844, -0.09541031, -0.11450011, -0.15495171,  0.06389026,\n",
       "        0.02110927,  0.00371896,  0.08747091,  0.06205472, -0.06040354,\n",
       "        0.11742756, -0.02641024,  0.05083737,  0.06945623, -0.06495658,\n",
       "       -0.063263  ,  0.03540578,  0.11944021,  0.04370203,  0.07291672,\n",
       "       -0.19710904, -0.00216829, -0.00070537, -0.03957019,  0.09934863,\n",
       "        0.0868771 ,  0.15127549, -0.19032128,  0.12705874, -0.00297314,\n",
       "       -0.0045206 ,  0.10532082, -0.04122305,  0.01334988, -0.11111376,\n",
       "       -0.1372762 , -0.09906401,  0.0917431 , -0.02789399, -0.20243527], dtype=float32)"
      ]
     },
     "execution_count": 57,
     "metadata": {},
     "output_type": "execute_result"
    }
   ],
   "source": [
    "a"
   ]
  },
  {
   "cell_type": "code",
   "execution_count": 56,
   "metadata": {
    "collapsed": false
   },
   "outputs": [
    {
     "ename": "AttributeError",
     "evalue": "'list' object has no attribute 'shape'",
     "output_type": "error",
     "traceback": [
      "\u001b[0;31m-------------------------------------------------------------------\u001b[0m",
      "\u001b[0;31mAttributeError\u001b[0m                    Traceback (most recent call last)",
      "\u001b[0;32m<ipython-input-56-0380415bf711>\u001b[0m in \u001b[0;36m<module>\u001b[0;34m()\u001b[0m\n\u001b[1;32m      1\u001b[0m \u001b[0ma\u001b[0m \u001b[0;34m=\u001b[0m \u001b[0mdoc2vec_model\u001b[0m\u001b[0;34m.\u001b[0m\u001b[0minfer_vector\u001b[0m\u001b[0;34m(\u001b[0m\u001b[0;34m\"I have a pen/\"\u001b[0m\u001b[0;34m)\u001b[0m\u001b[0;34m\u001b[0m\u001b[0m\n\u001b[0;32m----> 2\u001b[0;31m \u001b[0msims\u001b[0m \u001b[0;34m=\u001b[0m \u001b[0mdoc2vec_model\u001b[0m\u001b[0;34m.\u001b[0m\u001b[0mdocvecs\u001b[0m\u001b[0;34m.\u001b[0m\u001b[0mmost_similar\u001b[0m\u001b[0;34m(\u001b[0m\u001b[0;34m)\u001b[0m\u001b[0;34m\u001b[0m\u001b[0m\n\u001b[0m",
      "\u001b[0;32m~/anaconda/envs/ml/lib/python3.6/site-packages/gensim/models/doc2vec.py\u001b[0m in \u001b[0;36mmost_similar\u001b[0;34m(self, positive, negative, topn, clip_start, clip_end, indexer)\u001b[0m\n\u001b[1;32m    437\u001b[0m         there was chosen to be significant, such as more popular tag IDs in lower indexes.)\n\u001b[1;32m    438\u001b[0m         \"\"\"\n\u001b[0;32m--> 439\u001b[0;31m         \u001b[0mself\u001b[0m\u001b[0;34m.\u001b[0m\u001b[0minit_sims\u001b[0m\u001b[0;34m(\u001b[0m\u001b[0;34m)\u001b[0m\u001b[0;34m\u001b[0m\u001b[0m\n\u001b[0m\u001b[1;32m    440\u001b[0m         \u001b[0mclip_end\u001b[0m \u001b[0;34m=\u001b[0m \u001b[0mclip_end\u001b[0m \u001b[0;32mor\u001b[0m \u001b[0mlen\u001b[0m\u001b[0;34m(\u001b[0m\u001b[0mself\u001b[0m\u001b[0;34m.\u001b[0m\u001b[0mdoctag_syn0norm\u001b[0m\u001b[0;34m)\u001b[0m\u001b[0;34m\u001b[0m\u001b[0m\n\u001b[1;32m    441\u001b[0m \u001b[0;34m\u001b[0m\u001b[0m\n",
      "\u001b[0;32m~/anaconda/envs/ml/lib/python3.6/site-packages/gensim/models/doc2vec.py\u001b[0m in \u001b[0;36minit_sims\u001b[0;34m(self, replace)\u001b[0m\n\u001b[1;32m    420\u001b[0m                         mode='w+', shape=self.doctag_syn0.shape)\n\u001b[1;32m    421\u001b[0m                 \u001b[0;32melse\u001b[0m\u001b[0;34m:\u001b[0m\u001b[0;34m\u001b[0m\u001b[0m\n\u001b[0;32m--> 422\u001b[0;31m                     \u001b[0mself\u001b[0m\u001b[0;34m.\u001b[0m\u001b[0mdoctag_syn0norm\u001b[0m \u001b[0;34m=\u001b[0m \u001b[0mempty\u001b[0m\u001b[0;34m(\u001b[0m\u001b[0mself\u001b[0m\u001b[0;34m.\u001b[0m\u001b[0mdoctag_syn0\u001b[0m\u001b[0;34m.\u001b[0m\u001b[0mshape\u001b[0m\u001b[0;34m,\u001b[0m \u001b[0mdtype\u001b[0m\u001b[0;34m=\u001b[0m\u001b[0mREAL\u001b[0m\u001b[0;34m)\u001b[0m\u001b[0;34m\u001b[0m\u001b[0m\n\u001b[0m\u001b[1;32m    423\u001b[0m                 \u001b[0mnp_divide\u001b[0m\u001b[0;34m(\u001b[0m\u001b[0mself\u001b[0m\u001b[0;34m.\u001b[0m\u001b[0mdoctag_syn0\u001b[0m\u001b[0;34m,\u001b[0m \u001b[0msqrt\u001b[0m\u001b[0;34m(\u001b[0m\u001b[0;34m(\u001b[0m\u001b[0mself\u001b[0m\u001b[0;34m.\u001b[0m\u001b[0mdoctag_syn0\u001b[0m \u001b[0;34m**\u001b[0m \u001b[0;36m2\u001b[0m\u001b[0;34m)\u001b[0m\u001b[0;34m.\u001b[0m\u001b[0msum\u001b[0m\u001b[0;34m(\u001b[0m\u001b[0;34m-\u001b[0m\u001b[0;36m1\u001b[0m\u001b[0;34m)\u001b[0m\u001b[0;34m)\u001b[0m\u001b[0;34m[\u001b[0m\u001b[0;34m...\u001b[0m\u001b[0;34m,\u001b[0m \u001b[0mnewaxis\u001b[0m\u001b[0;34m]\u001b[0m\u001b[0;34m,\u001b[0m \u001b[0mself\u001b[0m\u001b[0;34m.\u001b[0m\u001b[0mdoctag_syn0norm\u001b[0m\u001b[0;34m)\u001b[0m\u001b[0;34m\u001b[0m\u001b[0m\n\u001b[1;32m    424\u001b[0m \u001b[0;34m\u001b[0m\u001b[0m\n",
      "\u001b[0;31mAttributeError\u001b[0m: 'list' object has no attribute 'shape'"
     ]
    }
   ],
   "source": [
    "a = doc2vec_model.infer_vector(\"I have a pen/\")\n",
    "sims = doc2vec_model.docvecs.most_similar()"
   ]
  },
  {
   "cell_type": "code",
   "execution_count": 35,
   "metadata": {
    "collapsed": true
   },
   "outputs": [],
   "source": [
    "def test(docs_test,docs_original,model):\n",
    "    docvecs = []\n",
    "    for test_doc in docs_test:\n",
    "        docvec = model.infer_vector(test_doc)\n",
    "        print(type(docvec))\n",
    "        docvecs.append(docvec)\n",
    "        sims = model.docvecs.most_similar(docvec)\n",
    "        print('Test Document: «{}»\\n'.format(test_doc))\n",
    "        for label, index in [('MOST', 0), ('MEDIAN', len(sims)//2), ('LEAST', len(sims) - 1)]:\n",
    "            print(u'%s %s: «%s»\\n' % (label, sims[index], docs_original[sims[index][0]]))\n",
    "        print(\"\\n\")\n",
    "    return docvecs"
   ]
  },
  {
   "cell_type": "code",
   "execution_count": 10,
   "metadata": {
    "collapsed": true
   },
   "outputs": [],
   "source": [
    "# Transform data (you can add more data preprocessing steps) \n",
    "def transform(docs_original):\n",
    "    docs = []\n",
    "    analyzedDocument = namedtuple('AnalyzedDocument', 'words tags')\n",
    "    for i, text in enumerate(docs_original):\n",
    "        words = text.lower().replace('.','').split()\n",
    "        tags = [i]\n",
    "        docs.append(analyzedDocument(words, tags))\n",
    "    return docs"
   ]
  },
  {
   "cell_type": "code",
   "execution_count": null,
   "metadata": {
    "collapsed": true
   },
   "outputs": [],
   "source": []
  }
 ],
 "metadata": {
  "kernelspec": {
   "display_name": "ml",
   "language": "python",
   "name": "ml"
  },
  "language_info": {
   "codemirror_mode": {
    "name": "ipython",
    "version": 3
   },
   "file_extension": ".py",
   "mimetype": "text/x-python",
   "name": "python",
   "nbconvert_exporter": "python",
   "pygments_lexer": "ipython3",
   "version": "3.6.2"
  }
 },
 "nbformat": 4,
 "nbformat_minor": 0
}

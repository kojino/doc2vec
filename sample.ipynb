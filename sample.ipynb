{
 "cells": [
  {
   "cell_type": "code",
   "execution_count": 1,
   "metadata": {
    "collapsed": true
   },
   "outputs": [],
   "source": [
    "# https://github.com/RaRe-Technologies/gensim/blob/develop/docs/notebooks/doc2vec-lee.ipynb\n",
    "import gensim\n",
    "import os\n",
    "import collections\n",
    "import smart_open\n",
    "import random"
   ]
  },
  {
   "cell_type": "code",
   "execution_count": 2,
   "metadata": {
    "collapsed": true
   },
   "outputs": [],
   "source": [
    "# Set file names for train and test data\n",
    "test_data_dir = '{}'.format(os.sep).join([gensim.__path__[0], 'test', 'test_data'])\n",
    "lee_train_file = test_data_dir + os.sep + 'lee_background.cor'\n",
    "lee_test_file = test_data_dir + os.sep + 'lee.cor'"
   ]
  },
  {
   "cell_type": "code",
   "execution_count": 5,
   "metadata": {
    "collapsed": false
   },
   "outputs": [
    {
     "name": "stdout",
     "output_type": "stream",
     "text": [
      "/Users/kojin/anaconda/envs/ml/lib/python3.6/site-packages/gensim/test/test_data\n"
     ]
    }
   ],
   "source": [
    "print(test_data_dir)"
   ]
  },
  {
   "cell_type": "code",
   "execution_count": 6,
   "metadata": {
    "collapsed": true
   },
   "outputs": [],
   "source": [
    "def read_corpus(fname, tokens_only=False):\n",
    "    with smart_open.smart_open(fname, encoding=\"iso-8859-1\") as f:\n",
    "        for i, line in enumerate(f):\n",
    "            if tokens_only:\n",
    "                yield gensim.utils.simple_preprocess(line)\n",
    "            else:\n",
    "                # For training data, add tags\n",
    "                yield gensim.models.doc2vec.TaggedDocument(gensim.utils.simple_preprocess(line), [i])"
   ]
  },
  {
   "cell_type": "code",
   "execution_count": 7,
   "metadata": {
    "collapsed": true
   },
   "outputs": [],
   "source": [
    "train_corpus = list(read_corpus(lee_train_file))\n",
    "test_corpus = list(read_corpus(lee_test_file, tokens_only=True))"
   ]
  },
  {
   "cell_type": "code",
   "execution_count": 9,
   "metadata": {
    "collapsed": false
   },
   "outputs": [
    {
     "name": "stdout",
     "output_type": "stream",
     "text": [
      "<class 'gensim.models.doc2vec.TaggedDocument'>\n"
     ]
    }
   ],
   "source": [
    "print(type(train_corpus[0]))"
   ]
  },
  {
   "cell_type": "code",
   "execution_count": 7,
   "metadata": {
    "collapsed": false
   },
   "outputs": [
    {
     "name": "stdout",
     "output_type": "stream",
     "text": [
      "[['the', 'national', 'executive', 'of', 'the', 'strife', 'torn', 'democrats', 'last', 'night', 'appointed', 'little', 'known', 'west', 'australian', 'senator', 'brian', 'greig', 'as', 'interim', 'leader', 'shock', 'move', 'likely', 'to', 'provoke', 'further', 'conflict', 'between', 'the', 'party', 'senators', 'and', 'its', 'organisation', 'in', 'move', 'to', 'reassert', 'control', 'over', 'the', 'party', 'seven', 'senators', 'the', 'national', 'executive', 'last', 'night', 'rejected', 'aden', 'ridgeway', 'bid', 'to', 'become', 'interim', 'leader', 'in', 'favour', 'of', 'senator', 'greig', 'supporter', 'of', 'deposed', 'leader', 'natasha', 'stott', 'despoja', 'and', 'an', 'outspoken', 'gay', 'rights', 'activist'], ['cash', 'strapped', 'financial', 'services', 'group', 'amp', 'has', 'shelved', 'million', 'plan', 'to', 'buy', 'shares', 'back', 'from', 'investors', 'and', 'will', 'raise', 'million', 'in', 'fresh', 'capital', 'after', 'profits', 'crashed', 'in', 'the', 'six', 'months', 'to', 'june', 'chief', 'executive', 'paul', 'batchelor', 'said', 'the', 'result', 'was', 'solid', 'in', 'what', 'he', 'described', 'as', 'the', 'worst', 'conditions', 'for', 'stock', 'markets', 'in', 'years', 'amp', 'half', 'year', 'profit', 'sank', 'per', 'cent', 'to', 'million', 'or', 'share', 'as', 'australia', 'largest', 'investor', 'and', 'fund', 'manager', 'failed', 'to', 'hit', 'projected', 'per', 'cent', 'earnings', 'growth', 'targets', 'and', 'was', 'battered', 'by', 'falling', 'returns', 'on', 'share', 'markets']]\n"
     ]
    }
   ],
   "source": [
    "print(test_corpus[:2])"
   ]
  },
  {
   "cell_type": "code",
   "execution_count": 8,
   "metadata": {
    "collapsed": true
   },
   "outputs": [],
   "source": [
    "model = gensim.models.doc2vec.Doc2Vec(size=50, min_count=2, iter=55)"
   ]
  },
  {
   "cell_type": "code",
   "execution_count": 9,
   "metadata": {
    "collapsed": true
   },
   "outputs": [],
   "source": [
    "model.build_vocab(train_corpus)"
   ]
  },
  {
   "cell_type": "code",
   "execution_count": 10,
   "metadata": {
    "collapsed": false
   },
   "outputs": [
    {
     "name": "stdout",
     "output_type": "stream",
     "text": [
      "CPU times: user 5.31 s, sys: 304 ms, total: 5.61 s\n",
      "Wall time: 2.67 s\n"
     ]
    },
    {
     "data": {
      "text/plain": [
       "2348318"
      ]
     },
     "execution_count": 10,
     "metadata": {},
     "output_type": "execute_result"
    }
   ],
   "source": [
    "%time model.train(train_corpus, total_examples=model.corpus_count, epochs=model.iter)"
   ]
  },
  {
   "cell_type": "code",
   "execution_count": 11,
   "metadata": {
    "collapsed": false
   },
   "outputs": [
    {
     "data": {
      "text/plain": [
       "array([-0.05206083,  0.03141917, -0.09455411, -0.0615157 ,  0.07723559,\n",
       "        0.01942795, -0.00992103,  0.01044649,  0.0030084 ,  0.07915336,\n",
       "       -0.03134976,  0.03893861,  0.01952419, -0.04929464,  0.07685329,\n",
       "       -0.08989383,  0.01360929, -0.09574849, -0.00496708,  0.06427038,\n",
       "       -0.15261079,  0.06012472,  0.05371454, -0.06814294,  0.08504394,\n",
       "       -0.03055946, -0.02440474, -0.12614577, -0.11276575,  0.02076258,\n",
       "        0.00205871, -0.02376   ,  0.04448971,  0.09966746, -0.01750847,\n",
       "       -0.01731499, -0.09333503,  0.01385808, -0.1872206 , -0.0399087 ,\n",
       "       -0.04890673,  0.0279649 ,  0.02592936, -0.01222236, -0.0133103 ,\n",
       "        0.03480035, -0.01124926, -0.07989611,  0.08215286, -0.06276517], dtype=float32)"
      ]
     },
     "execution_count": 11,
     "metadata": {},
     "output_type": "execute_result"
    }
   ],
   "source": [
    "model.infer_vector(['only', 'you', 'can', 'prevent', 'forrest', 'fires'])"
   ]
  },
  {
   "cell_type": "code",
   "execution_count": 12,
   "metadata": {
    "collapsed": true
   },
   "outputs": [],
   "source": [
    "ranks = []\n",
    "second_ranks = []\n",
    "for doc_id in range(len(train_corpus)):\n",
    "    inferred_vector = model.infer_vector(train_corpus[doc_id].words)\n",
    "    sims = model.docvecs.most_similar([inferred_vector], topn=len(model.docvecs))\n",
    "    rank = [docid for docid, sim in sims].index(doc_id)\n",
    "    ranks.append(rank)\n",
    "    \n",
    "    second_ranks.append(sims[1])"
   ]
  },
  {
   "cell_type": "code",
   "execution_count": 13,
   "metadata": {
    "collapsed": false
   },
   "outputs": [
    {
     "data": {
      "text/plain": [
       "Counter({0: 290, 1: 10})"
      ]
     },
     "execution_count": 13,
     "metadata": {},
     "output_type": "execute_result"
    }
   ],
   "source": [
    "collections.Counter(ranks)"
   ]
  },
  {
   "cell_type": "code",
   "execution_count": 15,
   "metadata": {
    "collapsed": false
   },
   "outputs": [
    {
     "name": "stdout",
     "output_type": "stream",
     "text": [
      "Document (299): «australia will take on france in the doubles rubber of the davis cup tennis final today with the tie levelled at wayne arthurs and todd woodbridge are scheduled to lead australia in the doubles against cedric pioline and fabrice santoro however changes can be made to the line up up to an hour before the match and australian team captain john fitzgerald suggested he might do just that we ll make team appraisal of the whole situation go over the pros and cons and make decision french team captain guy forget says he will not make changes but does not know what to expect from australia todd is the best doubles player in the world right now so expect him to play he said would probably use wayne arthurs but don know what to expect really pat rafter salvaged australia davis cup campaign yesterday with win in the second singles match rafter overcame an arm injury to defeat french number one sebastien grosjean in three sets the australian says he is happy with his form it not very pretty tennis there isn too many consistent bounces you are playing like said bit of classic old grass court rafter said rafter levelled the score after lleyton hewitt shock five set loss to nicholas escude in the first singles rubber but rafter says he felt no added pressure after hewitt defeat knew had good team to back me up even if we were down he said knew could win on the last day know the boys can win doubles so even if we were down still feel we are good enough team to win and vice versa they are good enough team to beat us as well»\n",
      "\n",
      "SIMILAR/DISSIMILAR DOCS PER MODEL Doc2Vec(dm/m,d50,n5,w5,mc2,s0.001,t3):\n",
      "\n",
      "MOST (299, 0.9401913285255432): «australia will take on france in the doubles rubber of the davis cup tennis final today with the tie levelled at wayne arthurs and todd woodbridge are scheduled to lead australia in the doubles against cedric pioline and fabrice santoro however changes can be made to the line up up to an hour before the match and australian team captain john fitzgerald suggested he might do just that we ll make team appraisal of the whole situation go over the pros and cons and make decision french team captain guy forget says he will not make changes but does not know what to expect from australia todd is the best doubles player in the world right now so expect him to play he said would probably use wayne arthurs but don know what to expect really pat rafter salvaged australia davis cup campaign yesterday with win in the second singles match rafter overcame an arm injury to defeat french number one sebastien grosjean in three sets the australian says he is happy with his form it not very pretty tennis there isn too many consistent bounces you are playing like said bit of classic old grass court rafter said rafter levelled the score after lleyton hewitt shock five set loss to nicholas escude in the first singles rubber but rafter says he felt no added pressure after hewitt defeat knew had good team to back me up even if we were down he said knew could win on the last day know the boys can win doubles so even if we were down still feel we are good enough team to win and vice versa they are good enough team to beat us as well»\n",
      "\n",
      "MEDIAN (44, 0.23561370372772217): «palestinian man has been shot dead as israeli forces charged into palestinian controlled land in the northern west bank in hot pursuit of gunmen who opened fire on them earlier palestinian officials said walid saadi was killed by heavy machine gun fire as tanks and helicopters fought pitched battle with the palestinian gunmen holed up in house on the edge of the town of jenin after attacking an israeli army post palestinian medics said israeli military sources said two armed men had been shot although it was not immediately clear if saadi was one of them or civilian caught in the intense fire israeli forces did not say how many gunmen they were facing down although officials had earlier said it was two an army spokesman said the gunmen had been heading through israel controlled territory east of the town when they ran into an army post and opened fire it claimed they had been planning to attack the nearby jewish settlement of qadim the israeli soldiers returned fire but the men escaped into palestinian self rule land next to the northern town of jenin the army chased them into land under the control of the palestinian authority and tracked them down to house where the men took cover the palestinians then threw two grenades at soldiers and border police injuring one policeman slightly firefight erupted around the house palestinian and israeli security officials said during which the tanks fired two shells into the building helicopters also opened fire killing saadi palestinian officials said according to jenin hospital officials two palestinians were injured in the exchange as the tanks and two jeeps entered metres into palestinian territory to besiege the house»\n",
      "\n",
      "LEAST (87, -0.057237423956394196): «the australian transport safety bureau has called for pilots to be better trained on the risks of air turbulence it is response to helicopter crash last august which claimed the life of media personality shirley strachan mr strachan was on solo navigation training flight on august when he crashed into mt archer on queensland sunshine coast witnesses told of seeing mr strachan apparently struggling to control his aircraft just prior to the crash safety bureau director alan stray says the helicopter was struck by severe air turbulence phenomena known as mountain wave it caused one of the helicopter rotors to flap and strike the tail boom while reluctant to attribute blame mr stray says mountain waves are not uncommon and mr strachan could have been better advised of local weather conditions prior to the flight he says the accident is wake up call to flight trainers to ensure students are fully educated on the dangers of weather phenomena the helicopter training company which owned the aircraft mr strachan died in has declined to comment in detail on the findings blue tongue helicopters owner helen gillies says the company respects the findings of the australian transport safety bureau mrs gillies says the investigation was thorough one but says that the incident is still too painful to discuss the former chief financial officer of retailer harris scarfe will face court on charges following inquiries by the australian securities and investment commission asic the charges to be faced by alan hodgson from beaumont in adelaide eastern suburbs include counts of acting dishonestly as an officer of harris scarfe six counts of acting dishonestly as an employee of the company and eight counts of giving false information to the australian stock exchange the matter has been brought by the commonwealth director of public prosecutions following asic investigation of the company the original harris scarfe business went into receivership in april with debts of about million management buyout by executives not connected with the original company was finalised last month the buyout saw the closure of stores around australia and the retention of others in south australia victoria and tasmania»\n",
      "\n"
     ]
    }
   ],
   "source": [
    "print('Document ({}): «{}»\\n'.format(doc_id, ' '.join(train_corpus[doc_id].words)))\n",
    "print(u'SIMILAR/DISSIMILAR DOCS PER MODEL %s:\\n' % model)\n",
    "for label, index in [('MOST', 0), ('MEDIAN', len(sims)//2), ('LEAST', len(sims) - 1)]:\n",
    "    print(u'%s %s: «%s»\\n' % (label, sims[index], ' '.join(train_corpus[sims[index][0]].words)))"
   ]
  },
  {
   "cell_type": "code",
   "execution_count": 16,
   "metadata": {
    "collapsed": false
   },
   "outputs": [
    {
     "name": "stdout",
     "output_type": "stream",
     "text": [
      "Train Document (265): «the federal government is under fire from unions over new departmental report which recommends australia outsource information technology it to india the document says india has low cost skilled workforce the minister for foreign affairs and trade alexander downer has given his support to the document from his department entitled india new economy old economy the report says sectors like it finance and offer attractive direct investment opportunities it also says australian firms could become more competitive by outsourcing to the indian it sector the community and public sector union wendy caird says the government seems to be encouraging local companies to export jobs to india think that quite alarming obviously labour is great deal cheaper in india and that assisted by the indian government removing labour laws and bankruptcy laws ms caird said the union says while the initiative may create jobs in india it will not help australia rising unemployment»\n",
      "\n",
      "Similar Document (239, 0.7805339097976685): «the department of foreign affairs and trade dfat has moved to clarify what it says are about report on the indian economy launched by foreign minister alexander downer the page document released on monday says australian firms could become more competitive by outsourcing to india information technology it sector the community and public sector union has been critical of the report saying dfat is encouraging australian businesses to export jobs to india but the department says the aim is to boost australia export potential and encourage competitiveness in the industry dfat does not want to make any further comment and the minister office says he is not available for interview»\n",
      "\n"
     ]
    }
   ],
   "source": [
    "# Pick a random document from the test corpus and infer a vector from the model\n",
    "doc_id = random.randint(0, len(train_corpus))\n",
    "\n",
    "# Compare and print the most/median/least similar documents from the train corpus\n",
    "print('Train Document ({}): «{}»\\n'.format(doc_id, ' '.join(train_corpus[doc_id].words)))\n",
    "sim_id = second_ranks[doc_id]\n",
    "print('Similar Document {}: «{}»\\n'.format(sim_id, ' '.join(train_corpus[sim_id[0]].words)))"
   ]
  },
  {
   "cell_type": "code",
   "execution_count": 17,
   "metadata": {
    "collapsed": false
   },
   "outputs": [
    {
     "name": "stdout",
     "output_type": "stream",
     "text": [
      "Test Document (14): «very few women have been appointed to head independent schools thwarting efforts to show women as good leaders according to the victorian independent education union although they make up two thirds of teaching staff women hold only one third of principal positions the union general secretary tony keenan said he believed some women were reluctant to become principals because of the long hours and the nature of the work but in other cases they were shut out of the top position because of perceptions about their ability to lead and provide discipline»\n",
      "\n",
      "SIMILAR/DISSIMILAR DOCS PER MODEL Doc2Vec(dm/m,d50,n5,w5,mc2,s0.001,t3):\n",
      "\n",
      "MOST (124, 0.6273884773254395): «the federal opposition wants tougher penalties for ships which spill oil after last week spill which affected phillip island volunteers hope to clean up the last of the oil at phillip island today authorities are still trying to track down the source of the spill which affected fairy penguins shadow environment minister kelvin thomson says better deterrents are needed to prevent further spills one of the problems with oil spills appears to be lack of prosecution action and believe that it is important that people who recklessly or negligently cause oil spills which seriously damage the environment are subject to prosecution action he said»\n",
      "\n",
      "MEDIAN (254, 0.32295843958854675): «defendants in the interlaken canyoning trial in switzerland are continuing to deny they played any role in the deaths of people including australians who drowned in when chief guide bernard strureewas asked why he did not call off the canyoning trip on that fateful july afternoon he said the water level was so low there would be enough time to evacuate the river if it flooded mr struree told the court guides were instructed to leave the canyon if water levels rose or changed colour adding they were always advised to pull out if strong storm was forecast but like those before him when asked if he remembered what the weather conditions were like at pm that afternoon he said he had not noticed the witnesses are providing few insights nor are they being sternly challenged and two days of evidence is revealing little tomorrow the australian families will take the journey to the saxet river gorge to pay tribute to those they lost»\n",
      "\n",
      "LEAST (130, 0.04570572078227997): «the condition of former indonesian dictator suharto has improved day after the year old former ruler was put on an intravenous drip and given oxygen to assist his breathing doctors performed series of tests early today and said suharto condition had picked up slightly since yesterday he is still attached to an iv drip but the doctors said bapak father condition is much better than yesterday staff member told afp on the condition of anonymity the doctors are still talking to his children he said suharto fell ill on sunday when he and his family received some visitors including ex ministers and former vice presidents at his family house for celebrations to mark the muslim festival of eid al fitr the former president ruled indonesia for years before he was forced from office in he has been fitted with pacemaker and suffered at least one slight stroke as well as periodic breathing and urinary complications he underwent an emergency appendectomy on february this year the staff said doctors had planned on hospitalising suharto on sunday but monday test result showed he could be treated at home his breathing rhythm is normal and unlike yesterday he does not required an oxygen mask the staff member added suharto has been charged with embezzlling trillion rupiah aud billion of public funds during his time in office but he has repeatedly failed to appear in court to answer the charges with his lawyers arguing that he is too ill to stand trial»\n",
      "\n"
     ]
    }
   ],
   "source": [
    "# Pick a random document from the test corpus and infer a vector from the model\n",
    "doc_id = random.randint(0, len(test_corpus))\n",
    "inferred_vector = model.infer_vector(test_corpus[doc_id])\n",
    "sims = model.docvecs.most_similar([inferred_vector], topn=len(model.docvecs))\n",
    "\n",
    "# Compare and print the most/median/least similar documents from the train corpus\n",
    "print('Test Document ({}): «{}»\\n'.format(doc_id, ' '.join(test_corpus[doc_id])))\n",
    "print(u'SIMILAR/DISSIMILAR DOCS PER MODEL %s:\\n' % model)\n",
    "for label, index in [('MOST', 0), ('MEDIAN', len(sims)//2), ('LEAST', len(sims) - 1)]:\n",
    "    print(u'%s %s: «%s»\\n' % (label, sims[index], ' '.join(train_corpus[sims[index][0]].words)))"
   ]
  },
  {
   "cell_type": "code",
   "execution_count": null,
   "metadata": {
    "collapsed": true
   },
   "outputs": [],
   "source": []
  }
 ],
 "metadata": {
  "kernelspec": {
   "display_name": "ml",
   "language": "python",
   "name": "ml"
  },
  "language_info": {
   "codemirror_mode": {
    "name": "ipython",
    "version": 3
   },
   "file_extension": ".py",
   "mimetype": "text/x-python",
   "name": "python",
   "nbconvert_exporter": "python",
   "pygments_lexer": "ipython3",
   "version": "3.6.2"
  }
 },
 "nbformat": 4,
 "nbformat_minor": 1
}
